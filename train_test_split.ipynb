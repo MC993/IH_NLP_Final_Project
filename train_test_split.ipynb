{
 "cells": [
  {
   "cell_type": "code",
   "execution_count": 27,
   "id": "f72e444e",
   "metadata": {},
   "outputs": [],
   "source": [
    "#required libraries\n",
    "import pandas as pd\n",
    "import numpy as np\n",
    "from sklearn.preprocessing import LabelEncoder\n",
    "import warnings\n",
    "warnings.filterwarnings('ignore')\n",
    "import seaborn as sns\n",
    "from sklearn.metrics import confusion_matrix\n",
    "import matplotlib.pyplot as plt\n",
    "import nlp\n",
    "import tensorflow as tf\n",
    "from transformers import pipeline, AutoTokenizer\n",
    "\n",
    "#setting to avoid truncation of the text rows\n",
    "\n",
    "pd.set_option('display.max_colwidth', None)"
   ]
  },
  {
   "cell_type": "code",
   "execution_count": 28,
   "id": "1203b112",
   "metadata": {},
   "outputs": [
    {
     "data": {
      "text/html": [
       "<div>\n",
       "<style scoped>\n",
       "    .dataframe tbody tr th:only-of-type {\n",
       "        vertical-align: middle;\n",
       "    }\n",
       "\n",
       "    .dataframe tbody tr th {\n",
       "        vertical-align: top;\n",
       "    }\n",
       "\n",
       "    .dataframe thead th {\n",
       "        text-align: right;\n",
       "    }\n",
       "</style>\n",
       "<table border=\"1\" class=\"dataframe\">\n",
       "  <thead>\n",
       "    <tr style=\"text-align: right;\">\n",
       "      <th></th>\n",
       "      <th>Unnamed: 0</th>\n",
       "      <th>text</th>\n",
       "      <th>label</th>\n",
       "    </tr>\n",
       "  </thead>\n",
       "  <tbody>\n",
       "    <tr>\n",
       "      <th>0</th>\n",
       "      <td>0</td>\n",
       "      <td>i just feel really helpless and heavy hearted</td>\n",
       "      <td>4</td>\n",
       "    </tr>\n",
       "    <tr>\n",
       "      <th>1</th>\n",
       "      <td>1</td>\n",
       "      <td>ive enjoyed being able to slouch about relax and unwind and frankly needed it after those last few weeks around the end of uni and the expo i have lately started to find myself feeling a bit listless which is never really a good thing</td>\n",
       "      <td>0</td>\n",
       "    </tr>\n",
       "    <tr>\n",
       "      <th>2</th>\n",
       "      <td>2</td>\n",
       "      <td>i gave up my internship with the dmrg and am feeling distraught</td>\n",
       "      <td>4</td>\n",
       "    </tr>\n",
       "    <tr>\n",
       "      <th>3</th>\n",
       "      <td>3</td>\n",
       "      <td>i dont know i feel so lost</td>\n",
       "      <td>0</td>\n",
       "    </tr>\n",
       "    <tr>\n",
       "      <th>4</th>\n",
       "      <td>4</td>\n",
       "      <td>i am a kindergarten teacher and i am thoroughly weary of my job after having taken the university entrance exam i suffered from anxiety for weeks as i did not want to carry on with my work studies were the only alternative</td>\n",
       "      <td>4</td>\n",
       "    </tr>\n",
       "  </tbody>\n",
       "</table>\n",
       "</div>"
      ],
      "text/plain": [
       "   Unnamed: 0  \\\n",
       "0           0   \n",
       "1           1   \n",
       "2           2   \n",
       "3           3   \n",
       "4           4   \n",
       "\n",
       "                                                                                                                                                                                                                                         text  \\\n",
       "0                                                                                                                                                                                               i just feel really helpless and heavy hearted   \n",
       "1  ive enjoyed being able to slouch about relax and unwind and frankly needed it after those last few weeks around the end of uni and the expo i have lately started to find myself feeling a bit listless which is never really a good thing   \n",
       "2                                                                                                                                                                             i gave up my internship with the dmrg and am feeling distraught   \n",
       "3                                                                                                                                                                                                                  i dont know i feel so lost   \n",
       "4              i am a kindergarten teacher and i am thoroughly weary of my job after having taken the university entrance exam i suffered from anxiety for weeks as i did not want to carry on with my work studies were the only alternative   \n",
       "\n",
       "   label  \n",
       "0      4  \n",
       "1      0  \n",
       "2      4  \n",
       "3      0  \n",
       "4      4  "
      ]
     },
     "execution_count": 28,
     "metadata": {},
     "output_type": "execute_result"
    }
   ],
   "source": [
    "#extracting data for the base emotions df\n",
    "\n",
    "data = pd.read_csv('c:/Data_Science/IH_Notebooks/IH_NLP_Final_Project/text.csv')\n",
    "emotion_df = data.copy()\n",
    "\n",
    "emotion_df.head()"
   ]
  },
  {
   "cell_type": "code",
   "execution_count": 29,
   "id": "9aeb54f4",
   "metadata": {},
   "outputs": [],
   "source": [
    "from sklearn.model_selection import train_test_split"
   ]
  },
  {
   "cell_type": "code",
   "execution_count": 30,
   "id": "9cb1a363",
   "metadata": {},
   "outputs": [
    {
     "name": "stdout",
     "output_type": "stream",
     "text": [
      "First 3 rows of emotion_df after column drop: \n",
      "                                                                                                                                                                                                                                          text  \\\n",
      "0                                                                                                                                                                                               i just feel really helpless and heavy hearted   \n",
      "1  ive enjoyed being able to slouch about relax and unwind and frankly needed it after those last few weeks around the end of uni and the expo i have lately started to find myself feeling a bit listless which is never really a good thing   \n",
      "2                                                                                                                                                                             i gave up my internship with the dmrg and am feeling distraught   \n",
      "\n",
      "   label  \n",
      "0      4  \n",
      "1      0  \n",
      "2      4  \n"
     ]
    }
   ],
   "source": [
    "#dropping unnecessary columns\n",
    "\n",
    "emotion_df = emotion_df.drop(columns='Unnamed: 0')\n",
    "\n",
    "print(\"First 3 rows of emotion_df after column drop: \\n\", emotion_df.head(3))\n",
    "\n",
    "import re\n",
    "\n",
    "#cleaning the text\n",
    "\n",
    "from my_functions import clean_text\n",
    "\n",
    "emotion_df['clean_text'] = emotion_df['text'].apply(clean_text)\n"
   ]
  },
  {
   "cell_type": "code",
   "execution_count": 31,
   "id": "f319e786",
   "metadata": {},
   "outputs": [],
   "source": [
    "emotion_df = emotion_df.drop(columns='text')\n",
    "\n",
    "#moving the label column back on the right of the df\n",
    "\n",
    "emotion_label_placeholder = emotion_df.pop('label')\n",
    "\n",
    "emotion_df['label'] = emotion_label_placeholder"
   ]
  },
  {
   "cell_type": "code",
   "execution_count": 32,
   "id": "353553ff",
   "metadata": {},
   "outputs": [
    {
     "data": {
      "text/html": [
       "<div>\n",
       "<style scoped>\n",
       "    .dataframe tbody tr th:only-of-type {\n",
       "        vertical-align: middle;\n",
       "    }\n",
       "\n",
       "    .dataframe tbody tr th {\n",
       "        vertical-align: top;\n",
       "    }\n",
       "\n",
       "    .dataframe thead th {\n",
       "        text-align: right;\n",
       "    }\n",
       "</style>\n",
       "<table border=\"1\" class=\"dataframe\">\n",
       "  <thead>\n",
       "    <tr style=\"text-align: right;\">\n",
       "      <th></th>\n",
       "      <th>text</th>\n",
       "      <th>label</th>\n",
       "    </tr>\n",
       "  </thead>\n",
       "  <tbody>\n",
       "    <tr>\n",
       "      <th>0</th>\n",
       "      <td>i just feel really helpless and heavy hearted</td>\n",
       "      <td>4</td>\n",
       "    </tr>\n",
       "    <tr>\n",
       "      <th>1</th>\n",
       "      <td>ive enjoyed being able to slouch about relax and unwind and frankly needed it after those last few weeks around the end of uni and the expo i have lately started to find myself feeling a bit listless which is never really a good thing</td>\n",
       "      <td>0</td>\n",
       "    </tr>\n",
       "    <tr>\n",
       "      <th>2</th>\n",
       "      <td>i gave up my internship with the dmrg and am feeling distraught</td>\n",
       "      <td>4</td>\n",
       "    </tr>\n",
       "    <tr>\n",
       "      <th>3</th>\n",
       "      <td>i dont know i feel so lost</td>\n",
       "      <td>0</td>\n",
       "    </tr>\n",
       "    <tr>\n",
       "      <th>4</th>\n",
       "      <td>i am a kindergarten teacher and i am thoroughly weary of my job after having taken the university entrance exam i suffered from anxiety for weeks as i did not want to carry on with my work studies were the only alternative</td>\n",
       "      <td>4</td>\n",
       "    </tr>\n",
       "    <tr>\n",
       "      <th>...</th>\n",
       "      <td>...</td>\n",
       "      <td>...</td>\n",
       "    </tr>\n",
       "    <tr>\n",
       "      <th>416804</th>\n",
       "      <td>i feel like telling these horny devils to find a site more suited to that sort of interest the playboy if there is one forum perhaps</td>\n",
       "      <td>2</td>\n",
       "    </tr>\n",
       "    <tr>\n",
       "      <th>416805</th>\n",
       "      <td>i began to realize that when i was feeling agitated or restless that i would have a thought to go do the dishes</td>\n",
       "      <td>3</td>\n",
       "    </tr>\n",
       "    <tr>\n",
       "      <th>416806</th>\n",
       "      <td>i feel very curious be why previous early dawn in the time here don t you seek his trouble</td>\n",
       "      <td>5</td>\n",
       "    </tr>\n",
       "    <tr>\n",
       "      <th>416807</th>\n",
       "      <td>i feel that becuase of the tyranical nature of the government in el salvador and the savage social conditions of the general people that the set of thought to run the shoe shop in miguel marmols testimoney was able to work</td>\n",
       "      <td>3</td>\n",
       "    </tr>\n",
       "    <tr>\n",
       "      <th>416808</th>\n",
       "      <td>i think that after i had spent some time investigating the surroundings and things i started to feel more curious about other people</td>\n",
       "      <td>5</td>\n",
       "    </tr>\n",
       "  </tbody>\n",
       "</table>\n",
       "<p>416809 rows × 2 columns</p>\n",
       "</div>"
      ],
      "text/plain": [
       "                                                                                                                                                                                                                                              text  \\\n",
       "0                                                                                                                                                                                                    i just feel really helpless and heavy hearted   \n",
       "1       ive enjoyed being able to slouch about relax and unwind and frankly needed it after those last few weeks around the end of uni and the expo i have lately started to find myself feeling a bit listless which is never really a good thing   \n",
       "2                                                                                                                                                                                  i gave up my internship with the dmrg and am feeling distraught   \n",
       "3                                                                                                                                                                                                                       i dont know i feel so lost   \n",
       "4                   i am a kindergarten teacher and i am thoroughly weary of my job after having taken the university entrance exam i suffered from anxiety for weeks as i did not want to carry on with my work studies were the only alternative   \n",
       "...                                                                                                                                                                                                                                            ...   \n",
       "416804                                                                                                        i feel like telling these horny devils to find a site more suited to that sort of interest the playboy if there is one forum perhaps   \n",
       "416805                                                                                                                             i began to realize that when i was feeling agitated or restless that i would have a thought to go do the dishes   \n",
       "416806                                                                                                                                                  i feel very curious be why previous early dawn in the time here don t you seek his trouble   \n",
       "416807              i feel that becuase of the tyranical nature of the government in el salvador and the savage social conditions of the general people that the set of thought to run the shoe shop in miguel marmols testimoney was able to work   \n",
       "416808                                                                                                        i think that after i had spent some time investigating the surroundings and things i started to feel more curious about other people   \n",
       "\n",
       "        label  \n",
       "0           4  \n",
       "1           0  \n",
       "2           4  \n",
       "3           0  \n",
       "4           4  \n",
       "...       ...  \n",
       "416804      2  \n",
       "416805      3  \n",
       "416806      5  \n",
       "416807      3  \n",
       "416808      5  \n",
       "\n",
       "[416809 rows x 2 columns]"
      ]
     },
     "execution_count": 32,
     "metadata": {},
     "output_type": "execute_result"
    }
   ],
   "source": [
    "emotion_df = emotion_df.rename(columns={'clean_text': 'text'})\n",
    "emotion_df"
   ]
  },
  {
   "cell_type": "code",
   "execution_count": 33,
   "id": "e31c51fa",
   "metadata": {},
   "outputs": [
    {
     "data": {
      "text/html": [
       "<div>\n",
       "<style scoped>\n",
       "    .dataframe tbody tr th:only-of-type {\n",
       "        vertical-align: middle;\n",
       "    }\n",
       "\n",
       "    .dataframe tbody tr th {\n",
       "        vertical-align: top;\n",
       "    }\n",
       "\n",
       "    .dataframe thead th {\n",
       "        text-align: right;\n",
       "    }\n",
       "</style>\n",
       "<table border=\"1\" class=\"dataframe\">\n",
       "  <thead>\n",
       "    <tr style=\"text-align: right;\">\n",
       "      <th></th>\n",
       "      <th>text</th>\n",
       "      <th>label</th>\n",
       "    </tr>\n",
       "  </thead>\n",
       "  <tbody>\n",
       "    <tr>\n",
       "      <th>0</th>\n",
       "      <td>im feeling terrible</td>\n",
       "      <td>0</td>\n",
       "    </tr>\n",
       "    <tr>\n",
       "      <th>1</th>\n",
       "      <td>i am lbs overweight and the sudden burst of training has left me feeling dull and stale</td>\n",
       "      <td>0</td>\n",
       "    </tr>\n",
       "    <tr>\n",
       "      <th>2</th>\n",
       "      <td>i usually feel resigned that if i know it i know it if not it is too late now</td>\n",
       "      <td>0</td>\n",
       "    </tr>\n",
       "    <tr>\n",
       "      <th>3</th>\n",
       "      <td>i was a part of that group but i left due to feeling disheartened with my internet speed and lack of money to buy a second hand one and i created my own group for artipoppe virgins those who have never managed to bag one for themselves</td>\n",
       "      <td>0</td>\n",
       "    </tr>\n",
       "    <tr>\n",
       "      <th>4</th>\n",
       "      <td>i am so far from normal that it s not funny i just feel stupid and tiny and cheated</td>\n",
       "      <td>0</td>\n",
       "    </tr>\n",
       "    <tr>\n",
       "      <th>...</th>\n",
       "      <td>...</td>\n",
       "      <td>...</td>\n",
       "    </tr>\n",
       "    <tr>\n",
       "      <th>5995</th>\n",
       "      <td>i think is slowly killing me and feeling like crud i am surprised i made it to friday</td>\n",
       "      <td>5</td>\n",
       "    </tr>\n",
       "    <tr>\n",
       "      <th>5996</th>\n",
       "      <td>i started feeling flu ish i was pretty surprised</td>\n",
       "      <td>5</td>\n",
       "    </tr>\n",
       "    <tr>\n",
       "      <th>5997</th>\n",
       "      <td>i have used these opportunities to feel contempt disgust and shame about the others instead of truly being curious about what motivates their behavior and what are they are attempting to share about themselves</td>\n",
       "      <td>5</td>\n",
       "    </tr>\n",
       "    <tr>\n",
       "      <th>5998</th>\n",
       "      <td>im sick of being exhausted all the time of rushing around school of feeling dazed and repressed of not having time to see my friends because i have too much to do of worrying about grades of forcing myself to tolerate small talk</td>\n",
       "      <td>5</td>\n",
       "    </tr>\n",
       "    <tr>\n",
       "      <th>5999</th>\n",
       "      <td>i still feel so damn energized im surprised im able to sit still</td>\n",
       "      <td>5</td>\n",
       "    </tr>\n",
       "  </tbody>\n",
       "</table>\n",
       "<p>6000 rows × 2 columns</p>\n",
       "</div>"
      ],
      "text/plain": [
       "                                                                                                                                                                                                                                             text  \\\n",
       "0                                                                                                                                                                                                                             im feeling terrible   \n",
       "1                                                                                                                                                         i am lbs overweight and the sudden burst of training has left me feeling dull and stale   \n",
       "2                                                                                                                                                                   i usually feel resigned that if i know it i know it if not it is too late now   \n",
       "3     i was a part of that group but i left due to feeling disheartened with my internet speed and lack of money to buy a second hand one and i created my own group for artipoppe virgins those who have never managed to bag one for themselves   \n",
       "4                                                                                                                                                             i am so far from normal that it s not funny i just feel stupid and tiny and cheated   \n",
       "...                                                                                                                                                                                                                                           ...   \n",
       "5995                                                                                                                                                        i think is slowly killing me and feeling like crud i am surprised i made it to friday   \n",
       "5996                                                                                                                                                                                             i started feeling flu ish i was pretty surprised   \n",
       "5997                            i have used these opportunities to feel contempt disgust and shame about the others instead of truly being curious about what motivates their behavior and what are they are attempting to share about themselves   \n",
       "5998         im sick of being exhausted all the time of rushing around school of feeling dazed and repressed of not having time to see my friends because i have too much to do of worrying about grades of forcing myself to tolerate small talk   \n",
       "5999                                                                                                                                                                             i still feel so damn energized im surprised im able to sit still   \n",
       "\n",
       "      label  \n",
       "0         0  \n",
       "1         0  \n",
       "2         0  \n",
       "3         0  \n",
       "4         0  \n",
       "...     ...  \n",
       "5995      5  \n",
       "5996      5  \n",
       "5997      5  \n",
       "5998      5  \n",
       "5999      5  \n",
       "\n",
       "[6000 rows x 2 columns]"
      ]
     },
     "execution_count": 33,
     "metadata": {},
     "output_type": "execute_result"
    }
   ],
   "source": [
    "from sklearn.utils import resample\n",
    "\n",
    "#resampling emotion_df to have 6000 rows\n",
    "\n",
    "sadness = emotion_df.loc[emotion_df['label'] == 0]\n",
    "joy = emotion_df.loc[emotion_df['label'] == 1]\n",
    "love = emotion_df.loc[emotion_df['label'] == 2]\n",
    "anger = emotion_df.loc[emotion_df['label'] == 3]\n",
    "fear = emotion_df.loc[emotion_df['label'] == 4]\n",
    "surprise = emotion_df.loc[emotion_df['label'] == 5]\n",
    "\n",
    "undersampled_sadness = resample(sadness, replace=True, n_samples=1000, random_state=42)\n",
    "undersampled_joy = resample(joy, replace=True, n_samples=1000, random_state=42)\n",
    "undersampled_love = resample(love, replace=True, n_samples=1000, random_state=42)\n",
    "undersampled_anger = resample(anger, replace=True, n_samples=1000, random_state=42)\n",
    "undersampled_fear = resample(fear, replace=True, n_samples=1000, random_state=42)\n",
    "undersampled_surprise = resample(surprise, replace=True, n_samples=1000, random_state=42)\n",
    "\n",
    "dfs = [undersampled_sadness, undersampled_joy, undersampled_love, undersampled_anger, undersampled_fear, undersampled_surprise]\n",
    "\n",
    "undersampled_emotion_df = pd.concat(dfs, ignore_index=True)\n",
    "\n",
    "undersampled_emotion_df\n"
   ]
  },
  {
   "cell_type": "code",
   "execution_count": 34,
   "id": "57d2e2cb",
   "metadata": {},
   "outputs": [
    {
     "name": "stderr",
     "output_type": "stream",
     "text": [
      "[nltk_data] Downloading package stopwords to\n",
      "[nltk_data]     C:\\Users\\Mirko\\AppData\\Roaming\\nltk_data...\n",
      "[nltk_data]   Package stopwords is already up-to-date!\n"
     ]
    }
   ],
   "source": [
    "import re\n",
    "import nltk\n",
    "nltk.download('stopwords')\n",
    "from nltk.corpus import stopwords \n",
    "#setting the language to English\n",
    "stop_words = set(stopwords.words('english'))"
   ]
  },
  {
   "cell_type": "code",
   "execution_count": 35,
   "id": "dbb2d01a",
   "metadata": {},
   "outputs": [],
   "source": [
    "def stopword_remove(text):\n",
    "    text = ' '.join(word for word in text.split() if word not in stop_words)\n",
    "    \n",
    "    return text\n",
    "\n",
    "undersampled_emotion_df['text'] = undersampled_emotion_df['text'].apply(stopword_remove)"
   ]
  },
  {
   "cell_type": "markdown",
   "id": "d70ab64f",
   "metadata": {},
   "source": [
    "# Model compilation with Adam optimizer"
   ]
  },
  {
   "cell_type": "code",
   "execution_count": 41,
   "id": "51d0b275",
   "metadata": {},
   "outputs": [
    {
     "name": "stderr",
     "output_type": "stream",
     "text": [
      "All model checkpoint layers were used when initializing TFRobertaForSequenceClassification.\n",
      "\n",
      "Some weights of TFRobertaForSequenceClassification were not initialized from the model checkpoint at j-hartmann/emotion-english-distilroberta-base and are newly initialized because the shapes did not match:\n",
      "- classifier/out_proj/kernel:0: found shape (768, 7) in the checkpoint and (768, 6) in the model instantiated\n",
      "- classifier/out_proj/bias:0: found shape (7,) in the checkpoint and (6,) in the model instantiated\n",
      "You should probably TRAIN this model on a down-stream task to be able to use it for predictions and inference.\n"
     ]
    }
   ],
   "source": [
    "#RoBERTa base model\n",
    "\n",
    "X = undersampled_emotion_df['text']\n",
    "y = undersampled_emotion_df['label']\n",
    "\n",
    "X_train, X_test, y_train, y_test = train_test_split(X, y, test_size=0.2,  random_state=42)\n",
    "\n",
    "#Tokenizer\n",
    "\n",
    "from transformers import AutoTokenizer, AutoConfig, TFAutoModelForSequenceClassification\n",
    "\n",
    "model_name = \"j-hartmann/emotion-english-distilroberta-base\"\n",
    "\n",
    "tokenizer = AutoTokenizer.from_pretrained(model_name)\n",
    "config = AutoConfig.from_pretrained(model_name, num_labels=6)\n",
    "\n",
    "model = TFAutoModelForSequenceClassification.from_pretrained(\n",
    "    model_name,\n",
    "    config=config,\n",
    "    ignore_mismatched_sizes=True\n",
    ")"
   ]
  },
  {
   "cell_type": "code",
   "execution_count": 42,
   "id": "260bebab",
   "metadata": {},
   "outputs": [],
   "source": [
    "def mooder(text):\n",
    "    \"\"\"\n",
    "    This function will return the mood of the text\n",
    "        returns_tensors=\"tf\" will return the tokens as a TensorFlow tensor\n",
    "        max_length=512 will limit the number of tokens to 512\n",
    "        truncation=True will truncate the text if it exceeds the max_length\n",
    "        padding=\"longest\" will pad the text to the longest sequence in the batch\n",
    "    \"\"\"\n",
    "    encoded_text = tokenizer(text, return_tensors=\"tf\", max_length=512, truncation=True, padding=\"longest\")\n",
    "    output = model(encoded_text)\n",
    "    scores = output.logits[0].numpy()\n",
    "    moods = {\n",
    "        \"anger\": scores[0],\n",
    "        \"joy\": scores[1],\n",
    "        \"fear\": scores[2],\n",
    "        \"love\": scores[3],\n",
    "        \"surprise\": scores[4],\n",
    "        \"sadness\": scores[5]\n",
    "    }\n",
    "\n",
    "    max_mood = max(moods, key=moods.get)\n",
    "    print(f\"Your mood appear to be {max_mood}\")\n",
    "\n",
    "    if max_mood == 'joy':\n",
    "        print(f\"The detected emotion is {max_mood}. No further investigation required.\")\n",
    "    elif max_mood == 'anger':\n",
    "        print(f\"The detected emotion is {max_mood}. Further investigation required.\")\n",
    "    elif max_mood == 'fear':\n",
    "        print(f\"The detected emotion is {max_mood}. Further investigation may be required.\")\n",
    "    elif max_mood == 'love':\n",
    "        print(f\"The detected emotion is {max_mood}. No further investigation required.\")\n",
    "    elif max_mood == 'surprise':\n",
    "        print(f\"The detected emotion is {max_mood}. No further investigation required.\")\n",
    "    else:\n",
    "        print(f\"The detected emotion is {max_mood}. No further investigation may be required.\")\n",
    "    return moods"
   ]
  },
  {
   "cell_type": "code",
   "execution_count": 49,
   "id": "22ec39ef",
   "metadata": {},
   "outputs": [],
   "source": [
    "train_encodings = tokenizer(list(X_train), truncation=True, padding=True, max_length=512, return_tensors=\"tf\")\n",
    "test_encodings = tokenizer(list(X_test), truncation=True, padding=True, max_length=512, return_tensors=\"tf\")\n",
    "\n",
    "import tensorflow as tf\n",
    "\n",
    "train_labels = tf.convert_to_tensor(list(y_train))\n",
    "test_labels = tf.convert_to_tensor(list(y_test))\n",
    "\n",
    "train_dataset = tf.data.Dataset.from_tensor_slices((\n",
    "    dict(train_encodings),\n",
    "    train_labels\n",
    ")).batch(16)\n",
    "\n",
    "test_dataset = tf.data.Dataset.from_tensor_slices((\n",
    "    dict(test_encodings),\n",
    "    test_labels\n",
    ")).batch(16)\n"
   ]
  },
  {
   "cell_type": "code",
   "execution_count": null,
   "id": "e3e441bb",
   "metadata": {},
   "outputs": [],
   "source": [
    "from tensorflow.keras.losses import SparseCategoricalCrossentropy\n",
    "\n",
    "model.compile(\n",
    "    optimizer=Adam(learning_rate=2e-5),\n",
    "    loss=SparseCategoricalCrossentropy(from_logits=True), #helps reducing loss during training to adapt weights automatically while training is running\n",
    "    metrics=[\"accuracy\"]\n",
    ")\n"
   ]
  },
  {
   "cell_type": "code",
   "execution_count": 51,
   "id": "24b70d7d",
   "metadata": {},
   "outputs": [
    {
     "name": "stdout",
     "output_type": "stream",
     "text": [
      "Epoch 1/3\n"
     ]
    },
    {
     "name": "stdout",
     "output_type": "stream",
     "text": [
      "300/300 [==============================] - 708s 2s/step - loss: 0.5445 - accuracy: 0.8238 - val_loss: 0.2517 - val_accuracy: 0.9242\n",
      "Epoch 2/3\n",
      "300/300 [==============================] - 692s 2s/step - loss: 0.2337 - accuracy: 0.9240 - val_loss: 0.2089 - val_accuracy: 0.9292\n",
      "Epoch 3/3\n",
      "300/300 [==============================] - 696s 2s/step - loss: 0.1815 - accuracy: 0.9383 - val_loss: 0.1823 - val_accuracy: 0.9417\n"
     ]
    },
    {
     "data": {
      "text/plain": [
       "<keras.src.callbacks.History at 0x271e7d887c0>"
      ]
     },
     "execution_count": 51,
     "metadata": {},
     "output_type": "execute_result"
    }
   ],
   "source": [
    "model.fit(train_dataset, validation_data=test_dataset, epochs=3)"
   ]
  },
  {
   "cell_type": "code",
   "execution_count": 52,
   "id": "7b91ab79",
   "metadata": {},
   "outputs": [
    {
     "name": "stdout",
     "output_type": "stream",
     "text": [
      "75/75 [==============================] - 18s 218ms/step\n"
     ]
    }
   ],
   "source": [
    "import numpy as np\n",
    "\n",
    "preds_logits = model.predict(test_dataset)"
   ]
  },
  {
   "cell_type": "code",
   "execution_count": 53,
   "id": "93452540",
   "metadata": {},
   "outputs": [],
   "source": [
    "y_pred = np.argmax(preds_logits.logits, axis=1)"
   ]
  },
  {
   "cell_type": "code",
   "execution_count": 54,
   "id": "10a047f6",
   "metadata": {},
   "outputs": [
    {
     "name": "stdout",
     "output_type": "stream",
     "text": [
      "Accuracy: 0.9416666666666667\n",
      "\n",
      "Detailed Classification Report:\n",
      "              precision    recall  f1-score   support\n",
      "\n",
      "     sadness       0.97      0.96      0.96       215\n",
      "         joy       0.97      0.88      0.92       222\n",
      "        love       0.89      0.97      0.93       176\n",
      "       anger       0.97      0.98      0.97       204\n",
      "        fear       0.96      0.88      0.92       189\n",
      "    surprise       0.89      1.00      0.94       194\n",
      "\n",
      "    accuracy                           0.94      1200\n",
      "   macro avg       0.94      0.94      0.94      1200\n",
      "weighted avg       0.94      0.94      0.94      1200\n",
      "\n"
     ]
    }
   ],
   "source": [
    "from sklearn.metrics import classification_report, accuracy_score\n",
    "\n",
    "print(\"Accuracy:\", accuracy_score(y_test, y_pred))\n",
    "\n",
    "print(\"\\nDetailed Classification Report:\")\n",
    "print(classification_report(y_test, y_pred, target_names=[\n",
    "    'sadness', 'joy', 'love', 'anger', 'fear', 'surprise'\n",
    "]))"
   ]
  },
  {
   "cell_type": "code",
   "execution_count": 59,
   "id": "48ab4b72",
   "metadata": {},
   "outputs": [
    {
     "data": {
      "image/png": "[encoded data removed]",
      "text/plain": [
       "<Figure size 800x600 with 2 Axes>"
      ]
     },
     "metadata": {},
     "output_type": "display_data"
    }
   ],
   "source": [
    "labels = ['sadness', 'joy', 'love', 'anger', 'fear', 'surprise']\n",
    "\n",
    "cm = confusion_matrix(y_test, y_pred, normalize='true')\n",
    "\n",
    "plt.figure(figsize=(8, 6))\n",
    "sns.heatmap(cm, annot=True, fmt='.2f', cmap='Blues',\n",
    "            xticklabels=labels, yticklabels=labels)\n",
    "\n",
    "plt.xlabel('Predicted Label')\n",
    "plt.ylabel('True Label')\n",
    "plt.title('Normalized Confusion Matrix')\n",
    "plt.tight_layout()\n",
    "plt.show()"
   ]
  },
  {
   "cell_type": "code",
   "execution_count": 60,
   "id": "c5c790c5",
   "metadata": {},
   "outputs": [
    {
     "name": "stdout",
     "output_type": "stream",
     "text": [
      "INFO:tensorflow:Assets written to: models/emotion_roberta_model\\assets\n"
     ]
    },
    {
     "name": "stderr",
     "output_type": "stream",
     "text": [
      "INFO:tensorflow:Assets written to: models/emotion_roberta_model\\assets\n"
     ]
    }
   ],
   "source": [
    "model.save(\"models/emotion_roberta_model\")"
   ]
  },
  {
   "cell_type": "code",
   "execution_count": 61,
   "id": "f5b60d69",
   "metadata": {},
   "outputs": [
    {
     "data": {
      "text/plain": [
       "('models/emotion_tokenizer\\\\tokenizer_config.json',\n",
       " 'models/emotion_tokenizer\\\\special_tokens_map.json',\n",
       " 'models/emotion_tokenizer\\\\vocab.json',\n",
       " 'models/emotion_tokenizer\\\\merges.txt',\n",
       " 'models/emotion_tokenizer\\\\added_tokens.json',\n",
       " 'models/emotion_tokenizer\\\\tokenizer.json')"
      ]
     },
     "execution_count": 61,
     "metadata": {},
     "output_type": "execute_result"
    }
   ],
   "source": [
    "tokenizer.save_pretrained(\"models/emotion_tokenizer\")"
   ]
  },
  {
   "cell_type": "code",
   "execution_count": 63,
   "id": "8ffdcac9",
   "metadata": {},
   "outputs": [
    {
     "data": {
      "text/plain": [
       "('models/models/emotion_tokenizer\\\\tokenizer_config.json',\n",
       " 'models/models/emotion_tokenizer\\\\special_tokens_map.json',\n",
       " 'models/models/emotion_tokenizer\\\\vocab.json',\n",
       " 'models/models/emotion_tokenizer\\\\merges.txt',\n",
       " 'models/models/emotion_tokenizer\\\\added_tokens.json',\n",
       " 'models/models/emotion_tokenizer\\\\tokenizer.json')"
      ]
     },
     "execution_count": 63,
     "metadata": {},
     "output_type": "execute_result"
    }
   ],
   "source": [
    "model.save_pretrained(\"models/models/emotion_roberta_model\")\n",
    "tokenizer.save_pretrained(\"models/models/emotion_tokenizer\")"
   ]
  },
  {
   "cell_type": "code",
   "execution_count": null,
   "id": "58171672",
   "metadata": {},
   "outputs": [],
   "source": []
  }
 ],
 "metadata": {
  "kernelspec": {
   "display_name": "emovenv",
   "language": "python",
   "name": "python3"
  },
  "language_info": {
   "codemirror_mode": {
    "name": "ipython",
    "version": 3
   },
   "file_extension": ".py",
   "mimetype": "text/x-python",
   "name": "python",
   "nbconvert_exporter": "python",
   "pygments_lexer": "ipython3",
   "version": "3.8.10"
  }
 },
 "nbformat": 4,
 "nbformat_minor": 5
}
