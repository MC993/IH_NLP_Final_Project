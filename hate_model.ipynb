{
 "cells": [
  {
   "cell_type": "code",
   "execution_count": 2,
   "id": "8c385cf9",
   "metadata": {},
   "outputs": [],
   "source": [
    "#required libraries\n",
    "import pandas as pd\n",
    "import numpy as np\n",
    "from sklearn.preprocessing import LabelEncoder\n",
    "import warnings\n",
    "warnings.filterwarnings('ignore')\n",
    "import seaborn as sns\n",
    "from sklearn.metrics import confusion_matrix\n",
    "import matplotlib.pyplot as plt\n",
    "import nlp\n",
    "import tensorflow as tf\n",
    "from transformers import pipeline, AutoTokenizer\n",
    "\n",
    "#setting to avoid truncation of the text rows\n",
    "\n",
    "pd.set_option('display.max_colwidth', None)"
   ]
  },
  {
   "cell_type": "code",
   "execution_count": 3,
   "id": "1ccfb403",
   "metadata": {},
   "outputs": [],
   "source": [
    "data2 = pd.read_csv('c:/Data_Science/IH_Notebooks/IH_NLP_Final_Project/labeled_data.csv')\n",
    "\n",
    "hate_df = data2.copy()\n",
    "\n",
    "hate_df = hate_df[['tweet', 'class']]"
   ]
  },
  {
   "cell_type": "code",
   "execution_count": 4,
   "id": "de9bbf84",
   "metadata": {},
   "outputs": [],
   "source": [
    "hate_df = hate_df.rename(columns={'tweet': 'text', 'class': 'label'})"
   ]
  },
  {
   "cell_type": "code",
   "execution_count": 5,
   "id": "9dcfd355",
   "metadata": {},
   "outputs": [],
   "source": [
    "import re\n",
    "\n",
    "#cleaning the text\n",
    "def clean_text(text):\n",
    "\n",
    "    text = text.lower()\n",
    "    text = re.sub(r'@\\w+', '', text)\n",
    "    text = re.sub(r'http\\S+', '', text)\n",
    "    text = re.sub(r'\\brt\\b', '', text)\n",
    "    text = re.sub(r'[^a-z\\s]', '', text)\n",
    "    text = re.sub(r'\\s+', ' ', text).strip()\n",
    "    \n",
    "    return text\n",
    "\n",
    "hate_df['clean_text'] = hate_df['text'].apply(clean_text)\n"
   ]
  },
  {
   "cell_type": "code",
   "execution_count": 6,
   "id": "d4201db6",
   "metadata": {},
   "outputs": [],
   "source": [
    "hate_df = hate_df.drop(columns='text')"
   ]
  },
  {
   "cell_type": "code",
   "execution_count": 7,
   "id": "9f117da3",
   "metadata": {},
   "outputs": [],
   "source": [
    "hate_label_placeholder = hate_df.pop('label')\n",
    "\n",
    "hate_df['label'] = hate_label_placeholder"
   ]
  },
  {
   "cell_type": "code",
   "execution_count": 8,
   "id": "94cdbb7f",
   "metadata": {},
   "outputs": [
    {
     "name": "stdout",
     "output_type": "stream",
     "text": [
      "First 3 rows of hate_df after resampling: \n",
      "                                                                                                                         text  \\\n",
      "0  i hate when faggots talk shit on here then block me so i cant respond bitch i will write you a letter with my response an   \n",
      "1                                                     jennifer lawrences nudes sooooo trash im still smashin though no doubt   \n",
      "2                                                     this kid looks like a retard when he tries hiding his phone so obvious   \n",
      "\n",
      "   label  \n",
      "0      0  \n",
      "1      0  \n",
      "2      0  \n"
     ]
    }
   ],
   "source": [
    "from sklearn.utils import resample\n",
    "\n",
    "hate_df = hate_df.rename(columns={'clean_text' : 'text'})\n",
    "\n",
    "hate_speech = hate_df.loc[hate_df['label'] == 0]\n",
    "offensive_speech = hate_df.loc[hate_df['label'] == 1]\n",
    "neutral_speech = hate_df.loc[hate_df['label'] == 2]\n",
    "\n",
    "hate_speech = resample(hate_speech, replace=True, n_samples= 1430, random_state=42)\n",
    "offensive_speech = resample(offensive_speech, replace=True, n_samples=2570, random_state=42)\n",
    "neutral_speech = resample(neutral_speech, replace=True, n_samples=2000, random_state=42)\n",
    "\n",
    "undersampled_hate_dfs = [hate_speech, offensive_speech, neutral_speech]\n",
    "\n",
    "undersampled_hate_df = pd.concat(undersampled_hate_dfs, ignore_index=True)\n",
    "\n",
    "print(\"First 3 rows of hate_df after resampling: \\n\", undersampled_hate_df.head(3))"
   ]
  },
  {
   "cell_type": "code",
   "execution_count": 9,
   "id": "44ca5095",
   "metadata": {},
   "outputs": [
    {
     "name": "stderr",
     "output_type": "stream",
     "text": [
      "[nltk_data] Downloading package stopwords to\n",
      "[nltk_data]     C:\\Users\\Mirko\\AppData\\Roaming\\nltk_data...\n",
      "[nltk_data]   Package stopwords is already up-to-date!\n"
     ]
    }
   ],
   "source": [
    "import re\n",
    "import nltk\n",
    "nltk.download('stopwords')\n",
    "from nltk.corpus import stopwords \n",
    "#setting the language to English\n",
    "stop_words = set(stopwords.words('english'))"
   ]
  },
  {
   "cell_type": "code",
   "execution_count": 10,
   "id": "63e1934b",
   "metadata": {},
   "outputs": [],
   "source": [
    "def stopword_remove(text):\n",
    "    text = ' '.join(word for word in text.split() if word not in stop_words)\n",
    "    \n",
    "    return text\n",
    "\n",
    "undersampled_hate_df['text'] = undersampled_hate_df['text'].apply(stopword_remove)"
   ]
  },
  {
   "cell_type": "markdown",
   "id": "5037f722",
   "metadata": {},
   "source": [
    "# Model compilation with Adam optimizer"
   ]
  },
  {
   "cell_type": "code",
   "execution_count": 11,
   "id": "708c4dfc",
   "metadata": {},
   "outputs": [
    {
     "name": "stderr",
     "output_type": "stream",
     "text": [
      "All model checkpoint layers were used when initializing TFRobertaForSequenceClassification.\n",
      "\n",
      "Some weights of TFRobertaForSequenceClassification were not initialized from the model checkpoint at j-hartmann/emotion-english-distilroberta-base and are newly initialized because the shapes did not match:\n",
      "- classifier/out_proj/kernel:0: found shape (768, 7) in the checkpoint and (768, 3) in the model instantiated\n",
      "- classifier/out_proj/bias:0: found shape (7,) in the checkpoint and (3,) in the model instantiated\n",
      "You should probably TRAIN this model on a down-stream task to be able to use it for predictions and inference.\n"
     ]
    }
   ],
   "source": [
    "from sklearn.model_selection import train_test_split\n",
    "#RoBERTa base model\n",
    "\n",
    "X = undersampled_hate_df['text']\n",
    "y = undersampled_hate_df['label']\n",
    "\n",
    "X_train, X_test, y_train, y_test = train_test_split(X, y, test_size=0.2,  random_state=42)\n",
    "\n",
    "#Tokenizer\n",
    "\n",
    "from transformers import AutoTokenizer, AutoConfig, TFAutoModelForSequenceClassification\n",
    "\n",
    "model_name = \"j-hartmann/emotion-english-distilroberta-base\"\n",
    "\n",
    "tokenizer = AutoTokenizer.from_pretrained(model_name)\n",
    "config = AutoConfig.from_pretrained(model_name, num_labels=3)\n",
    "\n",
    "model = TFAutoModelForSequenceClassification.from_pretrained(\n",
    "    model_name,\n",
    "    config=config,\n",
    "    ignore_mismatched_sizes=True\n",
    ")"
   ]
  },
  {
   "cell_type": "code",
   "execution_count": 12,
   "id": "a430fa5f",
   "metadata": {},
   "outputs": [],
   "source": [
    "def hate(text):\n",
    "    \"\"\"\n",
    "    This function will return the grade expressed in the text\n",
    "        returns_tensors=\"tf\" will return the tokens as a TensorFlow tensor\n",
    "        max_length=512 will limit the number of tokens to 512\n",
    "        truncation=True will truncate the text if it exceeds the max_length\n",
    "        padding=\"longest\" will pad the text to the longest sequence in the batch\n",
    "    \"\"\"\n",
    "    encoded_text = tokenizer(text, return_tensors=\"tf\", max_length=512, truncation=True, padding=\"longest\")\n",
    "    output = model(encoded_text)\n",
    "    scores = output.logits[0].numpy()\n",
    "    moods = {\n",
    "        \"Hate Speech\": scores[0],\n",
    "        \"Offensive Language\": scores[1],\n",
    "        \"Neither\": scores[2]\n",
    "    }\n",
    "\n",
    "    max_mood = max(moods, key=moods.get)\n",
    "    print(f\"Your mood appear to be {max_mood}\")\n",
    "\n",
    "    if max_mood == 'Hate Speech':\n",
    "        print(f\"The detected violence is {max_mood}. Flag to the operating team.\")\n",
    "    elif max_mood == 'Offensive Language':\n",
    "        print(f\"The detected violence is {max_mood}. Flag to the operating team.\")\n",
    "    else:\n",
    "        print(f\"The detected emotion is {max_mood}. No further action needed.\")\n",
    "    return moods"
   ]
  },
  {
   "cell_type": "code",
   "execution_count": 13,
   "id": "cb7e2700",
   "metadata": {},
   "outputs": [],
   "source": [
    "train_encodings = tokenizer(list(X_train), truncation=True, padding=True, max_length=512, return_tensors=\"tf\")\n",
    "test_encodings = tokenizer(list(X_test), truncation=True, padding=True, max_length=512, return_tensors=\"tf\")\n",
    "\n",
    "import tensorflow as tf\n",
    "\n",
    "train_labels = tf.convert_to_tensor(list(y_train))\n",
    "test_labels = tf.convert_to_tensor(list(y_test))\n",
    "\n",
    "train_dataset = tf.data.Dataset.from_tensor_slices((\n",
    "    dict(train_encodings),\n",
    "    train_labels\n",
    ")).batch(16)\n",
    "\n",
    "test_dataset = tf.data.Dataset.from_tensor_slices((\n",
    "    dict(test_encodings),\n",
    "    test_labels\n",
    ")).batch(16)"
   ]
  },
  {
   "cell_type": "code",
   "execution_count": 14,
   "id": "4fb92dbe",
   "metadata": {},
   "outputs": [],
   "source": [
    "from tensorflow.keras.losses import SparseCategoricalCrossentropy\n",
    "from tensorflow.keras.optimizers import Adam\n",
    "\n",
    "model.compile(\n",
    "    optimizer=Adam(learning_rate=2e-5),\n",
    "    loss=SparseCategoricalCrossentropy(from_logits=True),\n",
    "    metrics=[\"accuracy\"]\n",
    ")"
   ]
  },
  {
   "cell_type": "code",
   "execution_count": 15,
   "id": "629df803",
   "metadata": {},
   "outputs": [],
   "source": [
    "from tensorflow.keras.losses import SparseCategoricalCrossentropy\n",
    "from tensorflow.keras.optimizers import Adam\n",
    "\n",
    "model.compile(\n",
    "    optimizer=Adam(learning_rate=2e-5),\n",
    "    loss=SparseCategoricalCrossentropy(from_logits=True),\n",
    "    metrics=[\"accuracy\"]\n",
    ")\n"
   ]
  },
  {
   "cell_type": "code",
   "execution_count": 16,
   "id": "717325d8",
   "metadata": {},
   "outputs": [
    {
     "name": "stdout",
     "output_type": "stream",
     "text": [
      "Epoch 1/3\n"
     ]
    },
    {
     "name": "stdout",
     "output_type": "stream",
     "text": [
      "300/300 [==============================] - 2272s 8s/step - loss: 0.5898 - accuracy: 0.7654 - val_loss: 0.4369 - val_accuracy: 0.8325\n",
      "Epoch 2/3\n",
      "300/300 [==============================] - 565s 2s/step - loss: 0.4086 - accuracy: 0.8462 - val_loss: 0.3692 - val_accuracy: 0.8642\n",
      "Epoch 3/3\n",
      "300/300 [==============================] - 561s 2s/step - loss: 0.3187 - accuracy: 0.8821 - val_loss: 0.3423 - val_accuracy: 0.8767\n"
     ]
    },
    {
     "data": {
      "text/plain": [
       "<keras.src.callbacks.History at 0x1dddcd38460>"
      ]
     },
     "execution_count": 16,
     "metadata": {},
     "output_type": "execute_result"
    }
   ],
   "source": [
    "model.fit(train_dataset, validation_data=test_dataset, epochs=3)"
   ]
  },
  {
   "cell_type": "code",
   "execution_count": 17,
   "id": "ba1672b7",
   "metadata": {},
   "outputs": [
    {
     "name": "stdout",
     "output_type": "stream",
     "text": [
      "75/75 [==============================] - 32s 402ms/step\n"
     ]
    }
   ],
   "source": [
    "import numpy as np\n",
    "\n",
    "preds_hate_logits = model.predict(test_dataset)"
   ]
  },
  {
   "cell_type": "code",
   "execution_count": 18,
   "id": "4676fb80",
   "metadata": {},
   "outputs": [],
   "source": [
    "y_pred = np.argmax(preds_hate_logits.logits, axis=1)"
   ]
  },
  {
   "cell_type": "code",
   "execution_count": 19,
   "id": "9354bd03",
   "metadata": {},
   "outputs": [
    {
     "name": "stdout",
     "output_type": "stream",
     "text": [
      "Accuracy: 0.8766666666666667\n",
      "\n",
      "Detailed Classification Report:\n",
      "                   precision    recall  f1-score   support\n",
      "\n",
      "  sexual violence       0.86      0.72      0.79       315\n",
      "physical violence       0.85      0.90      0.88       502\n",
      "              EET       0.91      0.97      0.94       383\n",
      "\n",
      "         accuracy                           0.88      1200\n",
      "        macro avg       0.88      0.86      0.87      1200\n",
      "     weighted avg       0.88      0.88      0.87      1200\n",
      "\n"
     ]
    }
   ],
   "source": [
    "from sklearn.metrics import classification_report, accuracy_score\n",
    "\n",
    "print(\"Accuracy:\", accuracy_score(y_test, y_pred))\n",
    "\n",
    "print(\"\\nDetailed Classification Report:\")\n",
    "print(classification_report(y_test, y_pred, target_names=[\n",
    "    'sexual violence', 'physical violence', 'EET'\n",
    "]))"
   ]
  },
  {
   "cell_type": "code",
   "execution_count": 20,
   "id": "fe427740",
   "metadata": {},
   "outputs": [
    {
     "data": {
      "image/png": "[encoded data removed]",
      "text/plain": [
       "<Figure size 800x600 with 2 Axes>"
      ]
     },
     "metadata": {},
     "output_type": "display_data"
    }
   ],
   "source": [
    "labels = ['Hate Speech', 'Offensive Language', 'Neither']\n",
    "\n",
    "cm = confusion_matrix(y_test, y_pred, normalize='true')\n",
    "\n",
    "plt.figure(figsize=(8, 6))\n",
    "sns.heatmap(cm, annot=True, fmt='.2f', cmap='Blues',\n",
    "            xticklabels=labels, yticklabels=labels)\n",
    "\n",
    "plt.xlabel('Predicted Label')\n",
    "plt.ylabel('True Label')\n",
    "plt.title('Normalized Confusion Matrix for Hate model')\n",
    "plt.tight_layout()\n",
    "plt.show()"
   ]
  },
  {
   "cell_type": "code",
   "execution_count": 21,
   "id": "9db9ff57",
   "metadata": {},
   "outputs": [
    {
     "name": "stdout",
     "output_type": "stream",
     "text": [
      "INFO:tensorflow:Assets written to: models/hate_roberta_model\\assets\n"
     ]
    },
    {
     "name": "stderr",
     "output_type": "stream",
     "text": [
      "INFO:tensorflow:Assets written to: models/hate_roberta_model\\assets\n"
     ]
    }
   ],
   "source": [
    "model.save(\"models/hate_roberta_model\")"
   ]
  },
  {
   "cell_type": "code",
   "execution_count": 22,
   "id": "2ac20d39",
   "metadata": {},
   "outputs": [
    {
     "data": {
      "text/plain": [
       "('models/hate_tokenizer\\\\tokenizer_config.json',\n",
       " 'models/hate_tokenizer\\\\special_tokens_map.json',\n",
       " 'models/hate_tokenizer\\\\vocab.json',\n",
       " 'models/hate_tokenizer\\\\merges.txt',\n",
       " 'models/hate_tokenizer\\\\added_tokens.json',\n",
       " 'models/hate_tokenizer\\\\tokenizer.json')"
      ]
     },
     "execution_count": 22,
     "metadata": {},
     "output_type": "execute_result"
    }
   ],
   "source": [
    "tokenizer.save_pretrained(\"models/hate_tokenizer\")"
   ]
  },
  {
   "cell_type": "code",
   "execution_count": 23,
   "id": "31576d10",
   "metadata": {},
   "outputs": [
    {
     "data": {
      "text/plain": [
       "('models/models/hate_tokenizer\\\\tokenizer_config.json',\n",
       " 'models/models/hate_tokenizer\\\\special_tokens_map.json',\n",
       " 'models/models/hate_tokenizer\\\\vocab.json',\n",
       " 'models/models/hate_tokenizer\\\\merges.txt',\n",
       " 'models/models/hate_tokenizer\\\\added_tokens.json',\n",
       " 'models/models/hate_tokenizer\\\\tokenizer.json')"
      ]
     },
     "execution_count": 23,
     "metadata": {},
     "output_type": "execute_result"
    }
   ],
   "source": [
    "model.save_pretrained(\"models/models/hate_roberta_model\")\n",
    "tokenizer.save_pretrained(\"models/models/hate_tokenizer\")"
   ]
  },
  {
   "cell_type": "code",
   "execution_count": null,
   "id": "58554bfe",
   "metadata": {},
   "outputs": [],
   "source": []
  }
 ],
 "metadata": {
  "kernelspec": {
   "display_name": "emovenv",
   "language": "python",
   "name": "python3"
  },
  "language_info": {
   "codemirror_mode": {
    "name": "ipython",
    "version": 3
   },
   "file_extension": ".py",
   "mimetype": "text/x-python",
   "name": "python",
   "nbconvert_exporter": "python",
   "pygments_lexer": "ipython3",
   "version": "3.8.10"
  }
 },
 "nbformat": 4,
 "nbformat_minor": 5
}
