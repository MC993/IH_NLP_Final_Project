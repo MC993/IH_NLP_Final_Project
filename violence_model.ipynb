{
 "cells": [
  {
   "cell_type": "code",
   "execution_count": 2,
   "id": "5ac33abb",
   "metadata": {},
   "outputs": [],
   "source": [
    "#required libraries\n",
    "import pandas as pd\n",
    "import numpy as np\n",
    "from sklearn.preprocessing import LabelEncoder\n",
    "import warnings\n",
    "warnings.filterwarnings('ignore')\n",
    "import seaborn as sns\n",
    "from sklearn.metrics import confusion_matrix\n",
    "import matplotlib.pyplot as plt\n",
    "import nlp\n",
    "import tensorflow as tf\n",
    "from transformers import pipeline, AutoTokenizer\n",
    "\n",
    "#setting to avoid truncation of the text rows\n",
    "\n",
    "pd.set_option('display.max_colwidth', None)"
   ]
  },
  {
   "cell_type": "code",
   "execution_count": 3,
   "id": "9c116a29",
   "metadata": {},
   "outputs": [
    {
     "name": "stdout",
     "output_type": "stream",
     "text": [
      "      Tweet_ID  \\\n",
      "0  ID_0022DWKP   \n",
      "1  ID_00395QYM   \n",
      "2  ID_003EOSSF   \n",
      "\n",
      "                                                                                                                                                                                                         tweet  \\\n",
      "0  Had a dream i got raped last night. By a guy i work with. Actually a guy i smoked with once at my house but he was doing too much tryna be sexual and it wasn’t even like that for me just wanted to smoke.   \n",
      "1                                                                                                         he thought the word raped means sex and told me “i saw our dogs raping eachother” and i was like wtf   \n",
      "2                                                                                                     She NOT TALKING TO ME I WAS RAPED BY 2 MEN 1 MOLESTED HE IN JAIL ON NOTHER CHARGE SO SHE NOT SAYING WORD   \n",
      "\n",
      "              type  \n",
      "0  sexual_violence  \n",
      "1  sexual_violence  \n",
      "2  sexual_violence  \n"
     ]
    }
   ],
   "source": [
    "#extracting the data for the hate df and violence df\n",
    "\n",
    "data3 = pd.read_csv('c:/Data_Science/IH_Notebooks/IH_NLP_Final_Project/Train.csv')\n",
    "violence_df = data3.copy()\n",
    "\n",
    "print(violence_df.head(3))"
   ]
  },
  {
   "cell_type": "code",
   "execution_count": 4,
   "id": "c9bfbb60",
   "metadata": {},
   "outputs": [
    {
     "name": "stdout",
     "output_type": "stream",
     "text": [
      "First 3 rows of violence_df after column drop: \n",
      "                                                                                                                                                                                                          tweet  \\\n",
      "0  Had a dream i got raped last night. By a guy i work with. Actually a guy i smoked with once at my house but he was doing too much tryna be sexual and it wasn’t even like that for me just wanted to smoke.   \n",
      "1                                                                                                         he thought the word raped means sex and told me “i saw our dogs raping eachother” and i was like wtf   \n",
      "2                                                                                                     She NOT TALKING TO ME I WAS RAPED BY 2 MEN 1 MOLESTED HE IN JAIL ON NOTHER CHARGE SO SHE NOT SAYING WORD   \n",
      "\n",
      "              type  \n",
      "0  sexual_violence  \n",
      "1  sexual_violence  \n",
      "2  sexual_violence  \n"
     ]
    }
   ],
   "source": [
    "#dropping unnecessary columns\n",
    "\n",
    "\n",
    "violence_df = violence_df.drop(columns='Tweet_ID')\n",
    "\n",
    "print(\"First 3 rows of violence_df after column drop: \\n\", violence_df.head(3))"
   ]
  },
  {
   "cell_type": "code",
   "execution_count": 5,
   "id": "0a6133ad",
   "metadata": {},
   "outputs": [],
   "source": [
    "violence_df = violence_df.rename(columns={'tweet': 'text', 'type': 'label'})"
   ]
  },
  {
   "cell_type": "code",
   "execution_count": 6,
   "id": "4102d54d",
   "metadata": {},
   "outputs": [],
   "source": [
    "import re\n",
    "\n",
    "def clean_text(text):\n",
    "\n",
    "    text = text.lower()\n",
    "    text = re.sub(r'@\\w+', '', text)\n",
    "    text = re.sub(r'http\\S+', '', text)\n",
    "    text = re.sub(r'\\brt\\b', '', text)\n",
    "    text = re.sub(r'[^a-z\\s]', '', text)\n",
    "    text = re.sub(r'\\s+', ' ', text).strip()\n",
    "    \n",
    "    return text\n",
    "\n",
    "#cleaning the text\n",
    "\n",
    "\n",
    "violence_df['clean_text'] = violence_df['text'].apply(clean_text)\n"
   ]
  },
  {
   "cell_type": "code",
   "execution_count": 7,
   "id": "a79b6594",
   "metadata": {},
   "outputs": [
    {
     "name": "stdout",
     "output_type": "stream",
     "text": [
      "First 3 rows of violence_df: \n",
      "                                                                                                                                                                                                 clean_text  \\\n",
      "0  had a dream i got raped last night by a guy i work with actually a guy i smoked with once at my house but he was doing too much tryna be sexual and it wasnt even like that for me just wanted to smoke   \n",
      "1                                                                                                       he thought the word raped means sex and told me i saw our dogs raping eachother and i was like wtf   \n",
      "2                                                                                                     she not talking to me i was raped by men molested he in jail on nother charge so she not saying word   \n",
      "\n",
      "             label  \n",
      "0  sexual_violence  \n",
      "1  sexual_violence  \n",
      "2  sexual_violence  \n"
     ]
    }
   ],
   "source": [
    "\n",
    "\n",
    "violence_df = violence_df.drop(columns='text')\n",
    "\n",
    "#moving the label column back on the right of the df\n",
    "\n",
    "violence_label_placeholder = violence_df.pop('label')\n",
    "\n",
    "violence_df['label'] = violence_label_placeholder\n",
    "\n",
    "#Checking the results\n",
    "\n",
    "print(\"First 3 rows of violence_df: \\n\", violence_df.head(3))\n",
    "\n"
   ]
  },
  {
   "cell_type": "code",
   "execution_count": 8,
   "id": "cd380d8b",
   "metadata": {},
   "outputs": [],
   "source": [
    "violence_df = violence_df.rename(columns={'clean_text': 'text'})"
   ]
  },
  {
   "cell_type": "code",
   "execution_count": 9,
   "id": "51cbfeea",
   "metadata": {},
   "outputs": [
    {
     "name": "stdout",
     "output_type": "stream",
     "text": [
      "First 3 rows of violence_df after resampling: \n",
      "                                                                                                                                                                                                                                                                                   text  \\\n",
      "0                                                  shes strangling that poor dog crazy lady ive been raped three timesamp she thinks this is a man coming after me this man was doing nothing to her at all shes coming at him and hes just recording her for having her dog off leash   \n",
      "1     its good he did that i had a stalker once she creeped me the fck out a good chunk of them are schizophrenic i overheard a schizophrenic girl call the police claiming that several celebrities raped her keanus stalker couldve claimed the same amp the media wouldve went wild   \n",
      "2                          tw rape murder this makes me so sad idk what to say theres literally a whole rapist and serial killer that has raped and murdered girls in these few days and now its possible that hes lurking in other state im terrified for my life and the other girls   \n",
      "3                                                        winston maybe trump feels a mask makes him look fatter no its because trump is afraid that when he wears a mask he will be recognized example victim officer officer that masked man hes the one that raped me so it goes prm   \n",
      "4              one of the few times in my life im happy im aging ill be in december and while im sick for my granddaughters i do not want to see the country i grew up with go backwards my exhusband raped me after we separated i had an abortion and he never knew he barely helped   \n",
      "...                                                                                                                                                                                                                                                                                ...   \n",
      "5995                                   now you reach for that you call me an obscenity and i call you out for it and say thats not a polite thing to say but youre right ill let justin dini know you insulted me in a public forum just to be totally transparent and he can be aware   \n",
      "5996                     i wasnt promoted because of a racist district manager a white woman like they all were who then promoted a thin white blonde girl who had a spotty job history and ended up showing up late so much she was fired a few months after i left i was there years   \n",
      "5997                                                                                                                                                                                      i was fired from my job because i voted for obama woman says an ohio woman has filed a la ff   \n",
      "5998                                                                                                                                                                                                                                                   openly he insulted me in public   \n",
      "5999                                                                                                                                                                                               he hit and humiliated me in public wife of pilot held in dowry case narrates ordeal   \n",
      "\n",
      "                   label  \n",
      "0        sexual_violence  \n",
      "1        sexual_violence  \n",
      "2        sexual_violence  \n",
      "3        sexual_violence  \n",
      "4        sexual_violence  \n",
      "...                  ...  \n",
      "5995  emotional_violence  \n",
      "5996   economic_violence  \n",
      "5997   economic_violence  \n",
      "5998  emotional_violence  \n",
      "5999  emotional_violence  \n",
      "\n",
      "[6000 rows x 2 columns]\n"
     ]
    }
   ],
   "source": [
    "from sklearn.utils import resample\n",
    "\n",
    "sexual_violence = violence_df.loc[violence_df['label'] == 'sexual_violence']\n",
    "physical_violence = violence_df.loc[violence_df['label'] == 'Physical_violence']\n",
    "eet_violence = violence_df.loc[(violence_df['label'] == 'emotional_violence') | (violence_df['label'] == 'economic_violence') | (violence_df['label'] == 'Harmful_Traditional_practice')]\n",
    "\n",
    "sexual_violence = resample(sexual_violence, replace=True, n_samples=2944, random_state=42)\n",
    "physical_violence = resample(physical_violence, replace=True, n_samples=2000, random_state=42)\n",
    "eet_violence = resample(eet_violence, replace=True, n_samples=1056, random_state=42)\n",
    "\n",
    "dfs_violence = [sexual_violence, physical_violence, eet_violence]\n",
    "\n",
    "undersampled_violence_df = pd.concat(dfs_violence, ignore_index=True)\n",
    "\n",
    "print(\"First 3 rows of violence_df after resampling: \\n\", undersampled_violence_df)"
   ]
  },
  {
   "cell_type": "code",
   "execution_count": 10,
   "id": "b3d758fe",
   "metadata": {},
   "outputs": [],
   "source": [
    "main_violence_labels = ['sexual_violence', 'Physical_violence']\n",
    "\n",
    "undersampled_violence_df['label'] = undersampled_violence_df['label'].apply(lambda x: x if x in main_violence_labels else 'EET')"
   ]
  },
  {
   "cell_type": "code",
   "execution_count": 11,
   "id": "9f40513e",
   "metadata": {},
   "outputs": [],
   "source": [
    "violence_map = {\n",
    "    'sexual_violence': 0,\n",
    "    'Physical_violence': 1,\n",
    "    'EET': 2\n",
    "}\n",
    "\n",
    "undersampled_violence_df['label'] = undersampled_violence_df['label'].map(violence_map) "
   ]
  },
  {
   "cell_type": "code",
   "execution_count": 12,
   "id": "3192cb5d",
   "metadata": {},
   "outputs": [
    {
     "name": "stderr",
     "output_type": "stream",
     "text": [
      "[nltk_data] Downloading package stopwords to\n",
      "[nltk_data]     C:\\Users\\Mirko\\AppData\\Roaming\\nltk_data...\n",
      "[nltk_data]   Package stopwords is already up-to-date!\n"
     ]
    }
   ],
   "source": [
    "import re\n",
    "import nltk\n",
    "nltk.download('stopwords')\n",
    "from nltk.corpus import stopwords \n",
    "#setting the language to English\n",
    "stop_words = set(stopwords.words('english'))"
   ]
  },
  {
   "cell_type": "code",
   "execution_count": 13,
   "id": "7a6ded14",
   "metadata": {},
   "outputs": [],
   "source": [
    "def stopword_remove(text):\n",
    "    text = ' '.join(word for word in text.split() if word not in stop_words)\n",
    "    \n",
    "    return text\n",
    "\n",
    "undersampled_violence_df['text'] = undersampled_violence_df['text'].apply(stopword_remove)"
   ]
  },
  {
   "cell_type": "markdown",
   "id": "9c0c6ff9",
   "metadata": {},
   "source": [
    "# Model compilation with Adam optimizer"
   ]
  },
  {
   "cell_type": "code",
   "execution_count": 14,
   "id": "2dc3cba0",
   "metadata": {},
   "outputs": [
    {
     "name": "stderr",
     "output_type": "stream",
     "text": [
      "All model checkpoint layers were used when initializing TFRobertaForSequenceClassification.\n",
      "\n",
      "Some weights of TFRobertaForSequenceClassification were not initialized from the model checkpoint at j-hartmann/emotion-english-distilroberta-base and are newly initialized because the shapes did not match:\n",
      "- classifier/out_proj/kernel:0: found shape (768, 7) in the checkpoint and (768, 3) in the model instantiated\n",
      "- classifier/out_proj/bias:0: found shape (7,) in the checkpoint and (3,) in the model instantiated\n",
      "You should probably TRAIN this model on a down-stream task to be able to use it for predictions and inference.\n"
     ]
    }
   ],
   "source": [
    "from sklearn.model_selection import train_test_split\n",
    "#RoBERTa base model\n",
    "\n",
    "X = undersampled_violence_df['text']\n",
    "y = undersampled_violence_df['label']\n",
    "\n",
    "X_train, X_test, y_train, y_test = train_test_split(X, y, test_size=0.2,  random_state=42)\n",
    "\n",
    "#Tokenizer\n",
    "\n",
    "from transformers import AutoTokenizer, AutoConfig, TFAutoModelForSequenceClassification\n",
    "\n",
    "model_name = \"j-hartmann/emotion-english-distilroberta-base\"\n",
    "\n",
    "tokenizer = AutoTokenizer.from_pretrained(model_name)\n",
    "config = AutoConfig.from_pretrained(model_name, num_labels=3)\n",
    "\n",
    "model = TFAutoModelForSequenceClassification.from_pretrained(\n",
    "    model_name,\n",
    "    config=config,\n",
    "    ignore_mismatched_sizes=True\n",
    ")"
   ]
  },
  {
   "cell_type": "code",
   "execution_count": 15,
   "id": "f1e83963",
   "metadata": {},
   "outputs": [],
   "source": [
    "def violence(text):\n",
    "    \"\"\"\n",
    "    This function will return the violence type expressed in the text\n",
    "        returns_tensors=\"tf\" will return the tokens as a TensorFlow tensor\n",
    "        max_length=512 will limit the number of tokens to 512\n",
    "        truncation=True will truncate the text if it exceeds the max_length\n",
    "        padding=\"longest\" will pad the text to the longest sequence in the batch\n",
    "    \"\"\"\n",
    "    encoded_text = tokenizer(text, return_tensors=\"tf\", max_length=512, truncation=True, padding=\"longest\")\n",
    "    output = model(encoded_text)\n",
    "    scores = output.logits[0].numpy()\n",
    "    moods = {\n",
    "        \"Sexual Violence\": scores[0],\n",
    "        \"Physical Violence\": scores[1],\n",
    "        \"EET\": scores[2]\n",
    "    }\n",
    "\n",
    "    max_mood = max(moods, key=moods.get)\n",
    "    print(f\"Your mood appear to be {max_mood}\")\n",
    "\n",
    "    if max_mood == 'Sexual Violence':\n",
    "        print(f\"The detected violence is {max_mood}. Flag to the operating team.\")\n",
    "    elif max_mood == 'Physical Violence':\n",
    "        print(f\"The detected violence is {max_mood}. Flag to the operating team.\")\n",
    "    else:\n",
    "        print(f\"The detected emotion is {max_mood}. Flag to the operating team.\")\n",
    "    return moods"
   ]
  },
  {
   "cell_type": "code",
   "execution_count": 16,
   "id": "5d7ed431",
   "metadata": {},
   "outputs": [],
   "source": [
    "train_encodings = tokenizer(list(X_train), truncation=True, padding=True, max_length=512, return_tensors=\"tf\")\n",
    "test_encodings = tokenizer(list(X_test), truncation=True, padding=True, max_length=512, return_tensors=\"tf\")\n",
    "\n",
    "import tensorflow as tf\n",
    "\n",
    "train_labels = tf.convert_to_tensor(list(y_train))\n",
    "test_labels = tf.convert_to_tensor(list(y_test))\n",
    "\n",
    "train_dataset = tf.data.Dataset.from_tensor_slices((\n",
    "    dict(train_encodings),\n",
    "    train_labels\n",
    ")).batch(16)\n",
    "\n",
    "test_dataset = tf.data.Dataset.from_tensor_slices((\n",
    "    dict(test_encodings),\n",
    "    test_labels\n",
    ")).batch(16)"
   ]
  },
  {
   "cell_type": "code",
   "execution_count": 17,
   "id": "f238111c",
   "metadata": {},
   "outputs": [],
   "source": [
    "from tensorflow.keras.losses import SparseCategoricalCrossentropy\n",
    "from tensorflow.keras.optimizers import Adam\n",
    "\n",
    "model.compile(\n",
    "    optimizer=Adam(learning_rate=2e-5),\n",
    "    loss=SparseCategoricalCrossentropy(from_logits=True),\n",
    "    metrics=[\"accuracy\"]\n",
    ")\n"
   ]
  },
  {
   "cell_type": "code",
   "execution_count": 18,
   "id": "59c4244c",
   "metadata": {},
   "outputs": [
    {
     "name": "stdout",
     "output_type": "stream",
     "text": [
      "Epoch 1/3\n",
      "300/300 [==============================] - 755s 2s/step - loss: 0.1216 - accuracy: 0.9615 - val_loss: 0.0223 - val_accuracy: 0.9925\n",
      "Epoch 2/3\n",
      "300/300 [==============================] - 744s 2s/step - loss: 0.0108 - accuracy: 0.9973 - val_loss: 0.0154 - val_accuracy: 0.9958\n",
      "Epoch 3/3\n",
      "300/300 [==============================] - 770s 3s/step - loss: 0.0034 - accuracy: 0.9992 - val_loss: 0.0149 - val_accuracy: 0.9950\n"
     ]
    },
    {
     "data": {
      "text/plain": [
       "<keras.src.callbacks.History at 0x20636c4e580>"
      ]
     },
     "execution_count": 18,
     "metadata": {},
     "output_type": "execute_result"
    }
   ],
   "source": [
    "model.fit(train_dataset, validation_data=test_dataset, epochs=3)"
   ]
  },
  {
   "cell_type": "code",
   "execution_count": 19,
   "id": "aa6165fb",
   "metadata": {},
   "outputs": [
    {
     "name": "stdout",
     "output_type": "stream",
     "text": [
      "75/75 [==============================] - 38s 477ms/step\n"
     ]
    }
   ],
   "source": [
    "import numpy as np\n",
    "\n",
    "preds_violence_logits = model.predict(test_dataset)"
   ]
  },
  {
   "cell_type": "code",
   "execution_count": 20,
   "id": "06232bf8",
   "metadata": {},
   "outputs": [],
   "source": [
    "y_pred = np.argmax(preds_violence_logits.logits, axis=1)"
   ]
  },
  {
   "cell_type": "code",
   "execution_count": 21,
   "id": "151081da",
   "metadata": {},
   "outputs": [
    {
     "name": "stdout",
     "output_type": "stream",
     "text": [
      "Accuracy: 0.995\n",
      "\n",
      "Detailed Classification Report:\n",
      "                   precision    recall  f1-score   support\n",
      "\n",
      "  sexual violence       1.00      0.99      1.00       606\n",
      "physical violence       0.99      1.00      1.00       388\n",
      "              EET       0.99      1.00      0.99       206\n",
      "\n",
      "         accuracy                           0.99      1200\n",
      "        macro avg       0.99      1.00      0.99      1200\n",
      "     weighted avg       1.00      0.99      1.00      1200\n",
      "\n"
     ]
    }
   ],
   "source": [
    "from sklearn.metrics import classification_report, accuracy_score\n",
    "\n",
    "print(\"Accuracy:\", accuracy_score(y_test, y_pred))\n",
    "\n",
    "print(\"\\nDetailed Classification Report:\")\n",
    "print(classification_report(y_test, y_pred, target_names=[\n",
    "    'sexual violence', 'physical violence', 'EET'\n",
    "]))"
   ]
  },
  {
   "cell_type": "code",
   "execution_count": 22,
   "id": "ce84dd2e",
   "metadata": {},
   "outputs": [
    {
     "data": {
      "image/png": "[encoded data removed]",
      "text/plain": [
       "<Figure size 800x600 with 2 Axes>"
      ]
     },
     "metadata": {},
     "output_type": "display_data"
    }
   ],
   "source": [
    "labels = ['sexual violence', 'physical violence', 'EET']\n",
    "\n",
    "cm = confusion_matrix(y_test, y_pred, normalize='true')\n",
    "\n",
    "plt.figure(figsize=(8, 6))\n",
    "sns.heatmap(cm, annot=True, fmt='.2f', cmap='Blues',\n",
    "            xticklabels=labels, yticklabels=labels)\n",
    "\n",
    "plt.xlabel('Predicted Label')\n",
    "plt.ylabel('True Label')\n",
    "plt.title('Normalized Confusion Matrix for Violence model')\n",
    "plt.tight_layout()\n",
    "plt.show()"
   ]
  },
  {
   "cell_type": "code",
   "execution_count": 23,
   "id": "9511c16f",
   "metadata": {},
   "outputs": [
    {
     "data": {
      "text/plain": [
       "('models/models/violence_tokenizer\\\\tokenizer_config.json',\n",
       " 'models/models/violence_tokenizer\\\\special_tokens_map.json',\n",
       " 'models/models/violence_tokenizer\\\\vocab.json',\n",
       " 'models/models/violence_tokenizer\\\\merges.txt',\n",
       " 'models/models/violence_tokenizer\\\\added_tokens.json',\n",
       " 'models/models/violence_tokenizer\\\\tokenizer.json')"
      ]
     },
     "execution_count": 23,
     "metadata": {},
     "output_type": "execute_result"
    }
   ],
   "source": [
    "model.save_pretrained(\"models/models/violence_roberta_model\")\n",
    "tokenizer.save_pretrained(\"models/models/violence_tokenizer\")"
   ]
  },
  {
   "cell_type": "code",
   "execution_count": null,
   "id": "eaf8fadc",
   "metadata": {},
   "outputs": [],
   "source": []
  }
 ],
 "metadata": {
  "kernelspec": {
   "display_name": "emovenv",
   "language": "python",
   "name": "python3"
  },
  "language_info": {
   "codemirror_mode": {
    "name": "ipython",
    "version": 3
   },
   "file_extension": ".py",
   "mimetype": "text/x-python",
   "name": "python",
   "nbconvert_exporter": "python",
   "pygments_lexer": "ipython3",
   "version": "3.8.10"
  }
 },
 "nbformat": 4,
 "nbformat_minor": 5
}
