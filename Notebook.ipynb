{
 "cells": [
  {
   "cell_type": "markdown",
   "id": "258a404f",
   "metadata": {},
   "source": [
    "# Introduction\n",
    "\n",
    "**TRIGGER WARNING**:\n",
    "\n",
    "This notebook aims at creating a model to identify violent language expressed on the platform Tweeter (now X) as well as recogniting emotion through text.\n",
    "\n",
    "This repository can be considered as an extention of ***tweet_emotion_recognition***.\n",
    "\n",
    "What moved me to decide this was the right project for the graduation at IronHack is that I believe violence has no place, anywhere, and it should be monitored in the social media community as violent language and cyber mobbing can scar one's self esteem and lead to extreme actions by the victim of such violence.\n",
    "\n",
    "With this notebook I want to establish a model which identifies emotions and in case of violent language and reports it automatically to the operating team of the platform. The request is to have the user profile reviewed and see if there's the extreme to ban the profile permanently.\n",
    "\n",
    "Please be aware that the content of the datasets used contains language and comments which might be disturbing to you due to their nature.\n",
    "\n",
    "If you are sensitive to these topics but still interested to learn about my work, please interrupt reviewing this notebook but feel free to connect with me separately to discuss about the topic together."
   ]
  },
  {
   "cell_type": "code",
   "execution_count": 1,
   "id": "6f8fafe4",
   "metadata": {},
   "outputs": [],
   "source": [
    "#required libraries\n",
    "import pandas as pd\n",
    "import numpy as np\n",
    "from sklearn.preprocessing import LabelEncoder\n",
    "import warnings\n",
    "warnings.filterwarnings('ignore')\n",
    "import seaborn as sns\n",
    "from sklearn.metrics import confusion_matrix\n",
    "import matplotlib.pyplot as plt\n",
    "import nlp\n",
    "import tensorflow as tf\n",
    "from transformers import pipeline, AutoTokenizer\n",
    "\n",
    "#setting to avoid truncation of the text rows\n",
    "\n",
    "pd.set_option('display.max_colwidth', None)"
   ]
  },
  {
   "cell_type": "code",
   "execution_count": 2,
   "id": "7511913a",
   "metadata": {},
   "outputs": [
    {
     "data": {
      "text/html": [
       "<div>\n",
       "<style scoped>\n",
       "    .dataframe tbody tr th:only-of-type {\n",
       "        vertical-align: middle;\n",
       "    }\n",
       "\n",
       "    .dataframe tbody tr th {\n",
       "        vertical-align: top;\n",
       "    }\n",
       "\n",
       "    .dataframe thead th {\n",
       "        text-align: right;\n",
       "    }\n",
       "</style>\n",
       "<table border=\"1\" class=\"dataframe\">\n",
       "  <thead>\n",
       "    <tr style=\"text-align: right;\">\n",
       "      <th></th>\n",
       "      <th>Unnamed: 0</th>\n",
       "      <th>text</th>\n",
       "      <th>label</th>\n",
       "    </tr>\n",
       "  </thead>\n",
       "  <tbody>\n",
       "    <tr>\n",
       "      <th>0</th>\n",
       "      <td>0</td>\n",
       "      <td>i just feel really helpless and heavy hearted</td>\n",
       "      <td>4</td>\n",
       "    </tr>\n",
       "    <tr>\n",
       "      <th>1</th>\n",
       "      <td>1</td>\n",
       "      <td>ive enjoyed being able to slouch about relax and unwind and frankly needed it after those last few weeks around the end of uni and the expo i have lately started to find myself feeling a bit listless which is never really a good thing</td>\n",
       "      <td>0</td>\n",
       "    </tr>\n",
       "    <tr>\n",
       "      <th>2</th>\n",
       "      <td>2</td>\n",
       "      <td>i gave up my internship with the dmrg and am feeling distraught</td>\n",
       "      <td>4</td>\n",
       "    </tr>\n",
       "    <tr>\n",
       "      <th>3</th>\n",
       "      <td>3</td>\n",
       "      <td>i dont know i feel so lost</td>\n",
       "      <td>0</td>\n",
       "    </tr>\n",
       "    <tr>\n",
       "      <th>4</th>\n",
       "      <td>4</td>\n",
       "      <td>i am a kindergarten teacher and i am thoroughly weary of my job after having taken the university entrance exam i suffered from anxiety for weeks as i did not want to carry on with my work studies were the only alternative</td>\n",
       "      <td>4</td>\n",
       "    </tr>\n",
       "  </tbody>\n",
       "</table>\n",
       "</div>"
      ],
      "text/plain": [
       "   Unnamed: 0  \\\n",
       "0           0   \n",
       "1           1   \n",
       "2           2   \n",
       "3           3   \n",
       "4           4   \n",
       "\n",
       "                                                                                                                                                                                                                                         text  \\\n",
       "0                                                                                                                                                                                               i just feel really helpless and heavy hearted   \n",
       "1  ive enjoyed being able to slouch about relax and unwind and frankly needed it after those last few weeks around the end of uni and the expo i have lately started to find myself feeling a bit listless which is never really a good thing   \n",
       "2                                                                                                                                                                             i gave up my internship with the dmrg and am feeling distraught   \n",
       "3                                                                                                                                                                                                                  i dont know i feel so lost   \n",
       "4              i am a kindergarten teacher and i am thoroughly weary of my job after having taken the university entrance exam i suffered from anxiety for weeks as i did not want to carry on with my work studies were the only alternative   \n",
       "\n",
       "   label  \n",
       "0      4  \n",
       "1      0  \n",
       "2      4  \n",
       "3      0  \n",
       "4      4  "
      ]
     },
     "execution_count": 2,
     "metadata": {},
     "output_type": "execute_result"
    }
   ],
   "source": [
    "#extracting data for the base emotions df\n",
    "\n",
    "data = pd.read_csv('c:/Data_Science/IH_Notebooks/IH_NLP_Final_Project/text.csv')\n",
    "emotion_df = data.copy()\n",
    "\n",
    "emotion_df.head()"
   ]
  },
  {
   "cell_type": "code",
   "execution_count": 3,
   "id": "d2e51fb9",
   "metadata": {},
   "outputs": [
    {
     "name": "stdout",
     "output_type": "stream",
     "text": [
      "   Unnamed: 0  count  hate_speech  offensive_language  neither  class  \\\n",
      "0           0      3            0                   0        3      2   \n",
      "1           1      3            0                   3        0      1   \n",
      "2           2      3            0                   3        0      1   \n",
      "\n",
      "                                                                                                                                          tweet  \n",
      "0  !!! RT @mayasolovely: As a woman you shouldn't complain about cleaning up your house. &amp; as a man you should always take the trash out...  \n",
      "1                                                         !!!!! RT @mleew17: boy dats cold...tyga dwn bad for cuffin dat hoe in the 1st place!!  \n",
      "2                      !!!!!!! RT @UrKindOfBrand Dawg!!!! RT @80sbaby4life: You ever fuck a bitch and she start to cry? You be confused as shit  \n",
      "      Tweet_ID  \\\n",
      "0  ID_0022DWKP   \n",
      "1  ID_00395QYM   \n",
      "2  ID_003EOSSF   \n",
      "\n",
      "                                                                                                                                                                                                         tweet  \\\n",
      "0  Had a dream i got raped last night. By a guy i work with. Actually a guy i smoked with once at my house but he was doing too much tryna be sexual and it wasn’t even like that for me just wanted to smoke.   \n",
      "1                                                                                                         he thought the word raped means sex and told me “i saw our dogs raping eachother” and i was like wtf   \n",
      "2                                                                                                     She NOT TALKING TO ME I WAS RAPED BY 2 MEN 1 MOLESTED HE IN JAIL ON NOTHER CHARGE SO SHE NOT SAYING WORD   \n",
      "\n",
      "              type  \n",
      "0  sexual_violence  \n",
      "1  sexual_violence  \n",
      "2  sexual_violence  \n"
     ]
    }
   ],
   "source": [
    "#extracting the data for the hate df and violence df\n",
    "\n",
    "\n",
    "\n",
    "data2 = pd.read_csv('c:/Data_Science/IH_Notebooks/IH_NLP_Final_Project/labeled_data.csv')\n",
    "\n",
    "hate_df = data2.copy()\n",
    "\n",
    "data3 = pd.read_csv('c:/Data_Science/IH_Notebooks/IH_NLP_Final_Project/Train.csv')\n",
    "violence_df = data3.copy()\n",
    "\n",
    "print(hate_df.head(3))\n",
    "print(violence_df.head(3))"
   ]
  },
  {
   "cell_type": "markdown",
   "id": "eb2c9f63",
   "metadata": {},
   "source": [
    "# Data Cleaning"
   ]
  },
  {
   "cell_type": "code",
   "execution_count": 4,
   "id": "9e504212",
   "metadata": {},
   "outputs": [
    {
     "name": "stdout",
     "output_type": "stream",
     "text": [
      "First 3 rows of emotion_df after column drop: \n",
      "                                                                                                                                                                                                                                          text  \\\n",
      "0                                                                                                                                                                                               i just feel really helpless and heavy hearted   \n",
      "1  ive enjoyed being able to slouch about relax and unwind and frankly needed it after those last few weeks around the end of uni and the expo i have lately started to find myself feeling a bit listless which is never really a good thing   \n",
      "2                                                                                                                                                                             i gave up my internship with the dmrg and am feeling distraught   \n",
      "\n",
      "   label  \n",
      "0      4  \n",
      "1      0  \n",
      "2      4  \n",
      "First 3 rows of hate_df after column drop: \n",
      "                                                                                                                                           tweet  \\\n",
      "0  !!! RT @mayasolovely: As a woman you shouldn't complain about cleaning up your house. &amp; as a man you should always take the trash out...   \n",
      "1                                                         !!!!! RT @mleew17: boy dats cold...tyga dwn bad for cuffin dat hoe in the 1st place!!   \n",
      "2                      !!!!!!! RT @UrKindOfBrand Dawg!!!! RT @80sbaby4life: You ever fuck a bitch and she start to cry? You be confused as shit   \n",
      "\n",
      "   class  \n",
      "0      2  \n",
      "1      1  \n",
      "2      1  \n",
      "First 3 rows of violence_df after column drop: \n",
      "                                                                                                                                                                                                          tweet  \\\n",
      "0  Had a dream i got raped last night. By a guy i work with. Actually a guy i smoked with once at my house but he was doing too much tryna be sexual and it wasn’t even like that for me just wanted to smoke.   \n",
      "1                                                                                                         he thought the word raped means sex and told me “i saw our dogs raping eachother” and i was like wtf   \n",
      "2                                                                                                     She NOT TALKING TO ME I WAS RAPED BY 2 MEN 1 MOLESTED HE IN JAIL ON NOTHER CHARGE SO SHE NOT SAYING WORD   \n",
      "\n",
      "              type  \n",
      "0  sexual_violence  \n",
      "1  sexual_violence  \n",
      "2  sexual_violence  \n"
     ]
    }
   ],
   "source": [
    "#dropping unnecessary columns\n",
    "\n",
    "emotion_df = emotion_df.drop(columns='Unnamed: 0')\n",
    "\n",
    "violence_df = violence_df.drop(columns='Tweet_ID')\n",
    "\n",
    "hate_df = hate_df[['tweet', 'class']]\n",
    "\n",
    "print(\"First 3 rows of emotion_df after column drop: \\n\", emotion_df.head(3))\n",
    "\n",
    "print(\"First 3 rows of hate_df after column drop: \\n\", hate_df.head(3))\n",
    "\n",
    "print(\"First 3 rows of violence_df after column drop: \\n\", violence_df.head(3))"
   ]
  },
  {
   "cell_type": "code",
   "execution_count": 5,
   "id": "5d0eeead",
   "metadata": {},
   "outputs": [
    {
     "data": {
      "text/plain": [
       "(Index(['text', 'label'], dtype='object'),\n",
       " Index(['tweet', 'class'], dtype='object'),\n",
       " Index(['tweet', 'type'], dtype='object'))"
      ]
     },
     "execution_count": 5,
     "metadata": {},
     "output_type": "execute_result"
    }
   ],
   "source": [
    "emotion_df.columns, hate_df.columns, violence_df.columns"
   ]
  },
  {
   "cell_type": "code",
   "execution_count": 6,
   "id": "70b0ea3b",
   "metadata": {},
   "outputs": [],
   "source": [
    "#renaming the columns for hate and violence df\n",
    "\n",
    "hate_df = hate_df.rename(columns={'tweet': 'text', 'class': 'label'})\n",
    "violence_df = violence_df.rename(columns={'tweet': 'text', 'type': 'label'})"
   ]
  },
  {
   "cell_type": "code",
   "execution_count": 7,
   "id": "9c918ba1",
   "metadata": {},
   "outputs": [
    {
     "data": {
      "text/plain": [
       "(text     0\n",
       " label    0\n",
       " dtype: int64,\n",
       " text     0\n",
       " label    0\n",
       " dtype: int64,\n",
       " text     0\n",
       " label    0\n",
       " dtype: int64)"
      ]
     },
     "execution_count": 7,
     "metadata": {},
     "output_type": "execute_result"
    }
   ],
   "source": [
    "emotion_df.isnull().sum(), hate_df.isnull().sum(), violence_df.isnull().sum()"
   ]
  },
  {
   "cell_type": "markdown",
   "id": "f80af4a6",
   "metadata": {},
   "source": [
    "## Distribution Bar Plots"
   ]
  },
  {
   "cell_type": "code",
   "execution_count": 8,
   "id": "3145666a",
   "metadata": {},
   "outputs": [],
   "source": [
    "emotion_plot_df = emotion_df.copy()\n",
    "\n",
    "emotion_map = {\n",
    "    0 : \"Sadness\",\n",
    "    1: \"Joy\",\n",
    "    2: \"Love\",\n",
    "    3: \"Anger\",\n",
    "    4: \"Fear\",\n",
    "    5: \"Surprise\"\n",
    "}\n",
    "\n",
    "emotion_plot_df['emotion'] = emotion_plot_df['label'].map(emotion_map)\n",
    "\n",
    "emotion_distribuion = emotion_plot_df.groupby('emotion')['label'].count()"
   ]
  },
  {
   "cell_type": "code",
   "execution_count": 9,
   "id": "bb4df9f8",
   "metadata": {},
   "outputs": [
    {
     "data": {
      "image/png": "[encoded data removed]",
      "text/plain": [
       "<Figure size 800x500 with 1 Axes>"
      ]
     },
     "metadata": {},
     "output_type": "display_data"
    }
   ],
   "source": [
    "#Plot to show emotion distribution\n",
    "\n",
    "plt.figure(figsize=(8, 5))\n",
    "emotion_distribuion.sort_values(ascending=False).plot(kind='bar')\n",
    "\n",
    "plt.title('Distribution of Emotions in Tweets')\n",
    "plt.xlabel('Emotion')\n",
    "plt.ylabel('Number of Tweets')\n",
    "plt.xticks(rotation=45)\n",
    "plt.tight_layout()\n",
    "plt.show()"
   ]
  },
  {
   "cell_type": "code",
   "execution_count": 10,
   "id": "fd9126e5",
   "metadata": {},
   "outputs": [],
   "source": [
    "hate_plot_df = hate_df.copy()\n",
    "\n",
    "hate_map = {\n",
    "    0: \"Hate Speech\",\n",
    "    1: \"Offensive\",\n",
    "    2: \"Neither\"\n",
    "}\n",
    "\n",
    "hate_plot_df['grade'] = hate_plot_df['label'].map(hate_map)\n",
    "\n",
    "hate_distribution = hate_plot_df.groupby('grade')['label'].count()"
   ]
  },
  {
   "cell_type": "code",
   "execution_count": 11,
   "id": "41d31e1c",
   "metadata": {},
   "outputs": [
    {
     "data": {
      "image/png": "[encoded data removed]",
      "text/plain": [
       "<Figure size 800x500 with 1 Axes>"
      ]
     },
     "metadata": {},
     "output_type": "display_data"
    }
   ],
   "source": [
    "#Plot to show hate grade distribution\n",
    "\n",
    "plt.figure(figsize=(8, 5))\n",
    "hate_distribution.sort_values(ascending=False).plot(kind='bar')\n",
    "\n",
    "plt.title('Distribution of Hate Grade in Tweets')\n",
    "plt.xlabel('Grade')\n",
    "plt.ylabel('Number of Tweets')\n",
    "plt.xticks(rotation=45)\n",
    "plt.tight_layout()\n",
    "plt.show()"
   ]
  },
  {
   "cell_type": "code",
   "execution_count": 12,
   "id": "4ec963a7",
   "metadata": {},
   "outputs": [
    {
     "data": {
      "image/png": "[encoded data removed]",
      "text/plain": [
       "<Figure size 800x500 with 1 Axes>"
      ]
     },
     "metadata": {},
     "output_type": "display_data"
    }
   ],
   "source": [
    "#Plot to show hate grade distribution\n",
    "\n",
    "plt.figure(figsize=(8, 5))\n",
    "violence_df['label'].value_counts().sort_values(ascending=False).plot(kind='bar')\n",
    "\n",
    "plt.title('Distribution of different violence labels in Tweets')\n",
    "plt.xlabel('Label')\n",
    "plt.ylabel('Number of Tweets')\n",
    "plt.xticks(rotation=45)\n",
    "plt.tight_layout()\n",
    "plt.show()"
   ]
  },
  {
   "cell_type": "code",
   "execution_count": 13,
   "id": "a13ab0f9",
   "metadata": {},
   "outputs": [],
   "source": [
    "import re"
   ]
  },
  {
   "cell_type": "code",
   "execution_count": 14,
   "id": "ec706689",
   "metadata": {},
   "outputs": [],
   "source": [
    "#cleaning the text\n",
    "\n",
    "from my_functions import clean_text\n",
    "\n",
    "emotion_df['clean_text'] = emotion_df['text'].apply(clean_text)\n",
    "\n",
    "hate_df['clean_text'] = hate_df['text'].apply(clean_text)\n",
    "\n",
    "violence_df['clean_text'] = violence_df['text'].apply(clean_text)\n"
   ]
  },
  {
   "cell_type": "code",
   "execution_count": null,
   "id": "08c654bd",
   "metadata": {},
   "outputs": [
    {
     "name": "stdout",
     "output_type": "stream",
     "text": [
      "First 3 rows of emotion_df after column drop: \n",
      "                                                                                                                                                                                                                                    clean_text  \\\n",
      "0                                                                                                                                                                                               i just feel really helpless and heavy hearted   \n",
      "1  ive enjoyed being able to slouch about relax and unwind and frankly needed it after those last few weeks around the end of uni and the expo i have lately started to find myself feeling a bit listless which is never really a good thing   \n",
      "2                                                                                                                                                                             i gave up my internship with the dmrg and am feeling distraught   \n",
      "\n",
      "   label  \n",
      "0      4  \n",
      "1      0  \n",
      "2      4  \n",
      "First 3 rows of hate_df after column drop: \n",
      "                                                                                                         clean_text  \\\n",
      "0  as a woman you shouldnt complain about cleaning up your house amp as a man you should always take the trash out   \n",
      "1                                                     boy dats coldtyga dwn bad for cuffin dat hoe in the st place   \n",
      "2                                          dawg you ever fuck a bitch and she start to cry you be confused as shit   \n",
      "\n",
      "   label  \n",
      "0      2  \n",
      "1      1  \n",
      "2      1  \n",
      "First 3 rows of violence_df after column drop: \n",
      "                                                                                                                                                                                                 clean_text  \\\n",
      "0  had a dream i got raped last night by a guy i work with actually a guy i smoked with once at my house but he was doing too much tryna be sexual and it wasnt even like that for me just wanted to smoke   \n",
      "1                                                                                                       he thought the word raped means sex and told me i saw our dogs raping eachother and i was like wtf   \n",
      "2                                                                                                     she not talking to me i was raped by men molested he in jail on nother charge so she not saying word   \n",
      "\n",
      "             label  \n",
      "0  sexual_violence  \n",
      "1  sexual_violence  \n",
      "2  sexual_violence  \n"
     ]
    }
   ],
   "source": [
    "emotion_df = emotion_df.drop(columns='text')\n",
    "\n",
    "hate_df = hate_df.drop(columns='text')\n",
    "\n",
    "violence_df = violence_df.drop(columns='text')\n",
    "\n",
    "#moving the label column back on the right of the df\n",
    "\n",
    "emotion_label_placeholder = emotion_df.pop('label')\n",
    "\n",
    "emotion_df['label'] = emotion_label_placeholder\n",
    "\n",
    "hate_label_placeholder = hate_df.pop('label')\n",
    "\n",
    "hate_df['label'] = hate_label_placeholder\n",
    "\n",
    "violence_label_placeholder = violence_df.pop('label')\n",
    "\n",
    "violence_df['label'] = violence_label_placeholder\n",
    "\n",
    "#Checking the results\n",
    "\n",
    "print(\"First 3 rows of emotion_df: \\n\", emotion_df.head(3))\n",
    "\n",
    "print(\"First 3 rows of hate_df: \\n\", hate_df.head(3))\n",
    "\n",
    "print(\"First 3 rows of violence_df: \\n\", violence_df.head(3))\n",
    "\n"
   ]
  },
  {
   "cell_type": "markdown",
   "id": "3462ec32",
   "metadata": {},
   "source": [
    "## Resample: emotion_df"
   ]
  },
  {
   "cell_type": "code",
   "execution_count": 21,
   "id": "466b621e",
   "metadata": {},
   "outputs": [
    {
     "data": {
      "text/html": [
       "<div>\n",
       "<style scoped>\n",
       "    .dataframe tbody tr th:only-of-type {\n",
       "        vertical-align: middle;\n",
       "    }\n",
       "\n",
       "    .dataframe tbody tr th {\n",
       "        vertical-align: top;\n",
       "    }\n",
       "\n",
       "    .dataframe thead th {\n",
       "        text-align: right;\n",
       "    }\n",
       "</style>\n",
       "<table border=\"1\" class=\"dataframe\">\n",
       "  <thead>\n",
       "    <tr style=\"text-align: right;\">\n",
       "      <th></th>\n",
       "      <th>text</th>\n",
       "      <th>label</th>\n",
       "    </tr>\n",
       "  </thead>\n",
       "  <tbody>\n",
       "    <tr>\n",
       "      <th>0</th>\n",
       "      <td>i just feel really helpless and heavy hearted</td>\n",
       "      <td>4</td>\n",
       "    </tr>\n",
       "    <tr>\n",
       "      <th>1</th>\n",
       "      <td>ive enjoyed being able to slouch about relax and unwind and frankly needed it after those last few weeks around the end of uni and the expo i have lately started to find myself feeling a bit listless which is never really a good thing</td>\n",
       "      <td>0</td>\n",
       "    </tr>\n",
       "    <tr>\n",
       "      <th>2</th>\n",
       "      <td>i gave up my internship with the dmrg and am feeling distraught</td>\n",
       "      <td>4</td>\n",
       "    </tr>\n",
       "    <tr>\n",
       "      <th>3</th>\n",
       "      <td>i dont know i feel so lost</td>\n",
       "      <td>0</td>\n",
       "    </tr>\n",
       "    <tr>\n",
       "      <th>4</th>\n",
       "      <td>i am a kindergarten teacher and i am thoroughly weary of my job after having taken the university entrance exam i suffered from anxiety for weeks as i did not want to carry on with my work studies were the only alternative</td>\n",
       "      <td>4</td>\n",
       "    </tr>\n",
       "    <tr>\n",
       "      <th>...</th>\n",
       "      <td>...</td>\n",
       "      <td>...</td>\n",
       "    </tr>\n",
       "    <tr>\n",
       "      <th>416804</th>\n",
       "      <td>i feel like telling these horny devils to find a site more suited to that sort of interest the playboy if there is one forum perhaps</td>\n",
       "      <td>2</td>\n",
       "    </tr>\n",
       "    <tr>\n",
       "      <th>416805</th>\n",
       "      <td>i began to realize that when i was feeling agitated or restless that i would have a thought to go do the dishes</td>\n",
       "      <td>3</td>\n",
       "    </tr>\n",
       "    <tr>\n",
       "      <th>416806</th>\n",
       "      <td>i feel very curious be why previous early dawn in the time here don t you seek his trouble</td>\n",
       "      <td>5</td>\n",
       "    </tr>\n",
       "    <tr>\n",
       "      <th>416807</th>\n",
       "      <td>i feel that becuase of the tyranical nature of the government in el salvador and the savage social conditions of the general people that the set of thought to run the shoe shop in miguel marmols testimoney was able to work</td>\n",
       "      <td>3</td>\n",
       "    </tr>\n",
       "    <tr>\n",
       "      <th>416808</th>\n",
       "      <td>i think that after i had spent some time investigating the surroundings and things i started to feel more curious about other people</td>\n",
       "      <td>5</td>\n",
       "    </tr>\n",
       "  </tbody>\n",
       "</table>\n",
       "<p>416809 rows × 2 columns</p>\n",
       "</div>"
      ],
      "text/plain": [
       "                                                                                                                                                                                                                                              text  \\\n",
       "0                                                                                                                                                                                                    i just feel really helpless and heavy hearted   \n",
       "1       ive enjoyed being able to slouch about relax and unwind and frankly needed it after those last few weeks around the end of uni and the expo i have lately started to find myself feeling a bit listless which is never really a good thing   \n",
       "2                                                                                                                                                                                  i gave up my internship with the dmrg and am feeling distraught   \n",
       "3                                                                                                                                                                                                                       i dont know i feel so lost   \n",
       "4                   i am a kindergarten teacher and i am thoroughly weary of my job after having taken the university entrance exam i suffered from anxiety for weeks as i did not want to carry on with my work studies were the only alternative   \n",
       "...                                                                                                                                                                                                                                            ...   \n",
       "416804                                                                                                        i feel like telling these horny devils to find a site more suited to that sort of interest the playboy if there is one forum perhaps   \n",
       "416805                                                                                                                             i began to realize that when i was feeling agitated or restless that i would have a thought to go do the dishes   \n",
       "416806                                                                                                                                                  i feel very curious be why previous early dawn in the time here don t you seek his trouble   \n",
       "416807              i feel that becuase of the tyranical nature of the government in el salvador and the savage social conditions of the general people that the set of thought to run the shoe shop in miguel marmols testimoney was able to work   \n",
       "416808                                                                                                        i think that after i had spent some time investigating the surroundings and things i started to feel more curious about other people   \n",
       "\n",
       "        label  \n",
       "0           4  \n",
       "1           0  \n",
       "2           4  \n",
       "3           0  \n",
       "4           4  \n",
       "...       ...  \n",
       "416804      2  \n",
       "416805      3  \n",
       "416806      5  \n",
       "416807      3  \n",
       "416808      5  \n",
       "\n",
       "[416809 rows x 2 columns]"
      ]
     },
     "execution_count": 21,
     "metadata": {},
     "output_type": "execute_result"
    }
   ],
   "source": [
    "emotion_df = emotion_df.rename(columns={'clean_text': 'text'})\n",
    "emotion_df"
   ]
  },
  {
   "cell_type": "code",
   "execution_count": 20,
   "id": "632d593d",
   "metadata": {},
   "outputs": [
    {
     "data": {
      "text/html": [
       "<div>\n",
       "<style scoped>\n",
       "    .dataframe tbody tr th:only-of-type {\n",
       "        vertical-align: middle;\n",
       "    }\n",
       "\n",
       "    .dataframe tbody tr th {\n",
       "        vertical-align: top;\n",
       "    }\n",
       "\n",
       "    .dataframe thead th {\n",
       "        text-align: right;\n",
       "    }\n",
       "</style>\n",
       "<table border=\"1\" class=\"dataframe\">\n",
       "  <thead>\n",
       "    <tr style=\"text-align: right;\">\n",
       "      <th></th>\n",
       "      <th>clean_text</th>\n",
       "      <th>label</th>\n",
       "    </tr>\n",
       "  </thead>\n",
       "  <tbody>\n",
       "    <tr>\n",
       "      <th>0</th>\n",
       "      <td>im feeling terrible</td>\n",
       "      <td>0</td>\n",
       "    </tr>\n",
       "    <tr>\n",
       "      <th>1</th>\n",
       "      <td>i am lbs overweight and the sudden burst of training has left me feeling dull and stale</td>\n",
       "      <td>0</td>\n",
       "    </tr>\n",
       "    <tr>\n",
       "      <th>2</th>\n",
       "      <td>i usually feel resigned that if i know it i know it if not it is too late now</td>\n",
       "      <td>0</td>\n",
       "    </tr>\n",
       "    <tr>\n",
       "      <th>3</th>\n",
       "      <td>i was a part of that group but i left due to feeling disheartened with my internet speed and lack of money to buy a second hand one and i created my own group for artipoppe virgins those who have never managed to bag one for themselves</td>\n",
       "      <td>0</td>\n",
       "    </tr>\n",
       "    <tr>\n",
       "      <th>4</th>\n",
       "      <td>i am so far from normal that it s not funny i just feel stupid and tiny and cheated</td>\n",
       "      <td>0</td>\n",
       "    </tr>\n",
       "    <tr>\n",
       "      <th>...</th>\n",
       "      <td>...</td>\n",
       "      <td>...</td>\n",
       "    </tr>\n",
       "    <tr>\n",
       "      <th>5995</th>\n",
       "      <td>i think is slowly killing me and feeling like crud i am surprised i made it to friday</td>\n",
       "      <td>5</td>\n",
       "    </tr>\n",
       "    <tr>\n",
       "      <th>5996</th>\n",
       "      <td>i started feeling flu ish i was pretty surprised</td>\n",
       "      <td>5</td>\n",
       "    </tr>\n",
       "    <tr>\n",
       "      <th>5997</th>\n",
       "      <td>i have used these opportunities to feel contempt disgust and shame about the others instead of truly being curious about what motivates their behavior and what are they are attempting to share about themselves</td>\n",
       "      <td>5</td>\n",
       "    </tr>\n",
       "    <tr>\n",
       "      <th>5998</th>\n",
       "      <td>im sick of being exhausted all the time of rushing around school of feeling dazed and repressed of not having time to see my friends because i have too much to do of worrying about grades of forcing myself to tolerate small talk</td>\n",
       "      <td>5</td>\n",
       "    </tr>\n",
       "    <tr>\n",
       "      <th>5999</th>\n",
       "      <td>i still feel so damn energized im surprised im able to sit still</td>\n",
       "      <td>5</td>\n",
       "    </tr>\n",
       "  </tbody>\n",
       "</table>\n",
       "<p>6000 rows × 2 columns</p>\n",
       "</div>"
      ],
      "text/plain": [
       "                                                                                                                                                                                                                                       clean_text  \\\n",
       "0                                                                                                                                                                                                                             im feeling terrible   \n",
       "1                                                                                                                                                         i am lbs overweight and the sudden burst of training has left me feeling dull and stale   \n",
       "2                                                                                                                                                                   i usually feel resigned that if i know it i know it if not it is too late now   \n",
       "3     i was a part of that group but i left due to feeling disheartened with my internet speed and lack of money to buy a second hand one and i created my own group for artipoppe virgins those who have never managed to bag one for themselves   \n",
       "4                                                                                                                                                             i am so far from normal that it s not funny i just feel stupid and tiny and cheated   \n",
       "...                                                                                                                                                                                                                                           ...   \n",
       "5995                                                                                                                                                        i think is slowly killing me and feeling like crud i am surprised i made it to friday   \n",
       "5996                                                                                                                                                                                             i started feeling flu ish i was pretty surprised   \n",
       "5997                            i have used these opportunities to feel contempt disgust and shame about the others instead of truly being curious about what motivates their behavior and what are they are attempting to share about themselves   \n",
       "5998         im sick of being exhausted all the time of rushing around school of feeling dazed and repressed of not having time to see my friends because i have too much to do of worrying about grades of forcing myself to tolerate small talk   \n",
       "5999                                                                                                                                                                             i still feel so damn energized im surprised im able to sit still   \n",
       "\n",
       "      label  \n",
       "0         0  \n",
       "1         0  \n",
       "2         0  \n",
       "3         0  \n",
       "4         0  \n",
       "...     ...  \n",
       "5995      5  \n",
       "5996      5  \n",
       "5997      5  \n",
       "5998      5  \n",
       "5999      5  \n",
       "\n",
       "[6000 rows x 2 columns]"
      ]
     },
     "execution_count": 20,
     "metadata": {},
     "output_type": "execute_result"
    }
   ],
   "source": [
    "from sklearn.utils import resample\n",
    "\n",
    "#resampling emotion_df to have 6000 rows\n",
    "\n",
    "sadness = emotion_df.loc[emotion_df['label'] == 0]\n",
    "joy = emotion_df.loc[emotion_df['label'] == 1]\n",
    "love = emotion_df.loc[emotion_df['label'] == 2]\n",
    "anger = emotion_df.loc[emotion_df['label'] == 3]\n",
    "fear = emotion_df.loc[emotion_df['label'] == 4]\n",
    "surprise = emotion_df.loc[emotion_df['label'] == 5]\n",
    "\n",
    "undersampled_sadness = resample(sadness, replace=True, n_samples=1000, random_state=42)\n",
    "undersampled_joy = resample(joy, replace=True, n_samples=1000, random_state=42)\n",
    "undersampled_love = resample(love, replace=True, n_samples=1000, random_state=42)\n",
    "undersampled_anger = resample(anger, replace=True, n_samples=1000, random_state=42)\n",
    "undersampled_fear = resample(fear, replace=True, n_samples=1000, random_state=42)\n",
    "undersampled_surprise = resample(surprise, replace=True, n_samples=1000, random_state=42)\n",
    "\n",
    "dfs = [undersampled_sadness, undersampled_joy, undersampled_love, undersampled_anger, undersampled_fear, undersampled_surprise]\n",
    "\n",
    "undersampled_emotion_df = pd.concat(dfs, ignore_index=True)\n",
    "\n",
    "undersampled_emotion_df\n"
   ]
  },
  {
   "cell_type": "code",
   "execution_count": null,
   "id": "58cfc66d",
   "metadata": {},
   "outputs": [],
   "source": []
  }
 ],
 "metadata": {
  "kernelspec": {
   "display_name": "emovenv",
   "language": "python",
   "name": "python3"
  },
  "language_info": {
   "codemirror_mode": {
    "name": "ipython",
    "version": 3
   },
   "file_extension": ".py",
   "mimetype": "text/x-python",
   "name": "python",
   "nbconvert_exporter": "python",
   "pygments_lexer": "ipython3",
   "version": "3.8.10"
  }
 },
 "nbformat": 4,
 "nbformat_minor": 5
}
